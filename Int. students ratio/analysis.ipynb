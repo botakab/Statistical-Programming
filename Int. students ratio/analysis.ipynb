{
 "cells": [
  {
   "cell_type": "markdown",
   "metadata": {},
   "source": [
    "### Introduction"
   ]
  },
  {
   "cell_type": "markdown",
   "metadata": {},
   "source": [
    "The Project Description required us to choose a data based on our own interests. After some thoughts I came up with the theme I now spend most time exploring about and one of the webpages I use for that purpose. As a senior year student I go a lot through the universities' webpages and usually as first step I check their rankings.\n",
    "<br>Therefore, after consideration of several rankings webpages, I chose probably the most famous - QS World Rankings, because it seemed to contain most of detailed information and statistics. Among all variations of rankings, for this project _\"QS World University Rankings 2021\"_ https://www.topuniversities.com/university-rankings/world-university-rankings/2021 was examined. \n",
    "<br>The webpages of each university contained number of different information and details. Considering the information available, in this project it was decided to focus on the proportions of the international students in the universities in different regions. After some considerations, as 3 domeneering regions USA, Europe and the rest of the worlds universities were chosen. \n",
    "#### General Research Question is:\n",
    "_Considering all 1000 universities from QS World Rankings 2021, is there a significant difference in average international student ratios between universities from the US, Europe and rest of the World?_\n",
    "#### About the data:\n",
    "Initial webpage consists of table of the universities, and while parsing, the program required to go thought the link of that university and retrieve the data from there. As expected, all universities' pages were aligned in the same structure, although not all of them had all the information. Since, to answer the research question some of the variables such as number of total students, number of international students were crucial, program skipped the universities where these values were missing. \n",
    "#### Sampling of the data\n",
    "In the link above, by default, only 25 universities per list will be shown. However it can be set to show 200 universities per page. A get_data.py code imitates some actions, such as opening dropdown menu and selecting to show 200 items per page. Then, program transfers to the next 200 universities again by imitation of the clicking. In similar way, it is possible to access all the 1000 universities presented in the ranking list.\n",
    "<br>Since, retrieving all 1000 universities from the list is time consuming, only a sample of those universities were parsed and processed. _Clustering_ method were used for sampling - 50 randomly selected universities were selected from each group of 200. Ex: 50 universities from each group of 1-200, 201-400, 401-600, 601-800, 801-1000 ranked intitutions were sampled. In this way, it was ensured that sample will contain universities from each ranking division. \n",
    "<br>My running of the get_data.py code resulted in 229 sample size, rather than expected 250, because as it was mentioned, some universities were skipped if they do not contain the specific variables' info. In dataset 17 variables were recorded. Some of the variables contain _categorical data_ (ex: Name, Country), _continuous numerical data_ (ex: Overall Score, Employer Reputation) and _discrete numerical values_ (ex: Total Students, Academic Faculty Staff)."
   ]
  },
  {
   "cell_type": "markdown",
   "metadata": {},
   "source": [
    "__Importing the data__"
   ]
  },
  {
   "cell_type": "code",
   "execution_count": 1,
   "metadata": {},
   "outputs": [],
   "source": [
    "import pandas as pd\n",
    "import numpy as np\n",
    "import seaborn as sns\n",
    "import matplotlib.pyplot as plt\n",
    "import scipy as sp"
   ]
  },
  {
   "cell_type": "code",
   "execution_count": 2,
   "metadata": {},
   "outputs": [
    {
     "name": "stdout",
     "output_type": "stream",
     "text": [
      "Shape of the dataset: (229, 17)\n"
     ]
    },
    {
     "data": {
      "text/html": [
       "<div>\n",
       "<style scoped>\n",
       "    .dataframe tbody tr th:only-of-type {\n",
       "        vertical-align: middle;\n",
       "    }\n",
       "\n",
       "    .dataframe tbody tr th {\n",
       "        vertical-align: top;\n",
       "    }\n",
       "\n",
       "    .dataframe thead th {\n",
       "        text-align: right;\n",
       "    }\n",
       "</style>\n",
       "<table border=\"1\" class=\"dataframe\">\n",
       "  <thead>\n",
       "    <tr style=\"text-align: right;\">\n",
       "      <th></th>\n",
       "      <th>Name</th>\n",
       "      <th>Country</th>\n",
       "      <th>QS Global World Ranking</th>\n",
       "      <th>Status</th>\n",
       "      <th>Research Output</th>\n",
       "      <th>Total Students</th>\n",
       "      <th>Scholarships</th>\n",
       "      <th>Academic Faculty Staff</th>\n",
       "      <th>International Students</th>\n",
       "      <th>Overall Score</th>\n",
       "      <th>Academic Reputation</th>\n",
       "      <th>Employer Reputation</th>\n",
       "      <th>Faculty Student</th>\n",
       "      <th>Citations per Faculty</th>\n",
       "      <th>International Faculty</th>\n",
       "      <th>Number of International Students</th>\n",
       "      <th>Number of International Faculty</th>\n",
       "    </tr>\n",
       "  </thead>\n",
       "  <tbody>\n",
       "    <tr>\n",
       "      <th>0</th>\n",
       "      <td>University of Wollongong</td>\n",
       "      <td>Australia</td>\n",
       "      <td>#196</td>\n",
       "      <td>Public</td>\n",
       "      <td>Very High</td>\n",
       "      <td>19,103</td>\n",
       "      <td>Yes</td>\n",
       "      <td>1,404</td>\n",
       "      <td>86</td>\n",
       "      <td>43.2</td>\n",
       "      <td>31.3</td>\n",
       "      <td>34.5</td>\n",
       "      <td>19.2</td>\n",
       "      <td>71.0</td>\n",
       "      <td>91.8</td>\n",
       "      <td>5,721</td>\n",
       "      <td>508</td>\n",
       "    </tr>\n",
       "    <tr>\n",
       "      <th>1</th>\n",
       "      <td>University of Amsterdam</td>\n",
       "      <td>NaN</td>\n",
       "      <td>#=61</td>\n",
       "      <td>Public</td>\n",
       "      <td>Very High</td>\n",
       "      <td>18,234</td>\n",
       "      <td>Yes</td>\n",
       "      <td>2,790</td>\n",
       "      <td>61.6</td>\n",
       "      <td>69.9</td>\n",
       "      <td>82.3</td>\n",
       "      <td>55.6</td>\n",
       "      <td>35.4</td>\n",
       "      <td>83.3</td>\n",
       "      <td>84.5</td>\n",
       "      <td>5,943</td>\n",
       "      <td>890</td>\n",
       "    </tr>\n",
       "    <tr>\n",
       "      <th>2</th>\n",
       "      <td>Sapienza University of Rome</td>\n",
       "      <td>Italy</td>\n",
       "      <td>#171</td>\n",
       "      <td>Public</td>\n",
       "      <td>Very High</td>\n",
       "      <td>74,483</td>\n",
       "      <td>NaN</td>\n",
       "      <td>3,237</td>\n",
       "      <td>10.5</td>\n",
       "      <td>46.1</td>\n",
       "      <td>78.4</td>\n",
       "      <td>33.8</td>\n",
       "      <td>5.1</td>\n",
       "      <td>46.3</td>\n",
       "      <td>4.8</td>\n",
       "      <td>5,860</td>\n",
       "      <td>103</td>\n",
       "    </tr>\n",
       "    <tr>\n",
       "      <th>3</th>\n",
       "      <td>Waseda University</td>\n",
       "      <td>Japan</td>\n",
       "      <td>#=189</td>\n",
       "      <td>Private</td>\n",
       "      <td>Very High</td>\n",
       "      <td>44,078</td>\n",
       "      <td>NaN</td>\n",
       "      <td>3,864</td>\n",
       "      <td>36.7</td>\n",
       "      <td>44.1</td>\n",
       "      <td>58.6</td>\n",
       "      <td>93.6</td>\n",
       "      <td>30.6</td>\n",
       "      <td>7.6</td>\n",
       "      <td>31.0</td>\n",
       "      <td>7,209</td>\n",
       "      <td>553</td>\n",
       "    </tr>\n",
       "    <tr>\n",
       "      <th>4</th>\n",
       "      <td>Ludwig-Maximilians-Universität München</td>\n",
       "      <td>Germany</td>\n",
       "      <td>#63</td>\n",
       "      <td>Public</td>\n",
       "      <td>Very High</td>\n",
       "      <td>35,858</td>\n",
       "      <td>NaN</td>\n",
       "      <td>3,818</td>\n",
       "      <td>36.2</td>\n",
       "      <td>68.9</td>\n",
       "      <td>92.9</td>\n",
       "      <td>80.7</td>\n",
       "      <td>49.1</td>\n",
       "      <td>43.9</td>\n",
       "      <td>57.6</td>\n",
       "      <td>5,816</td>\n",
       "      <td>846</td>\n",
       "    </tr>\n",
       "  </tbody>\n",
       "</table>\n",
       "</div>"
      ],
      "text/plain": [
       "                                     Name    Country QS Global World Ranking  \\\n",
       "0                University of Wollongong  Australia                    #196   \n",
       "1                 University of Amsterdam        NaN                    #=61   \n",
       "2             Sapienza University of Rome      Italy                    #171   \n",
       "3                       Waseda University      Japan                   #=189   \n",
       "4  Ludwig-Maximilians-Universität München    Germany                     #63   \n",
       "\n",
       "    Status Research Output Total Students Scholarships Academic Faculty Staff  \\\n",
       "0   Public       Very High         19,103          Yes                  1,404   \n",
       "1   Public       Very High         18,234          Yes                  2,790   \n",
       "2   Public       Very High         74,483          NaN                  3,237   \n",
       "3  Private       Very High         44,078          NaN                  3,864   \n",
       "4   Public       Very High         35,858          NaN                  3,818   \n",
       "\n",
       "  International Students  Overall Score  Academic Reputation  \\\n",
       "0                     86           43.2                 31.3   \n",
       "1                   61.6           69.9                 82.3   \n",
       "2                   10.5           46.1                 78.4   \n",
       "3                   36.7           44.1                 58.6   \n",
       "4                   36.2           68.9                 92.9   \n",
       "\n",
       "   Employer Reputation  Faculty Student  Citations per Faculty  \\\n",
       "0                 34.5             19.2                   71.0   \n",
       "1                 55.6             35.4                   83.3   \n",
       "2                 33.8              5.1                   46.3   \n",
       "3                 93.6             30.6                    7.6   \n",
       "4                 80.7             49.1                   43.9   \n",
       "\n",
       "   International Faculty Number of International Students  \\\n",
       "0                   91.8                            5,721   \n",
       "1                   84.5                            5,943   \n",
       "2                    4.8                            5,860   \n",
       "3                   31.0                            7,209   \n",
       "4                   57.6                            5,816   \n",
       "\n",
       "   Number of International Faculty  \n",
       "0                              508  \n",
       "1                              890  \n",
       "2                              103  \n",
       "3                              553  \n",
       "4                              846  "
      ]
     },
     "execution_count": 2,
     "metadata": {},
     "output_type": "execute_result"
    }
   ],
   "source": [
    "url = \"data.csv\"\n",
    "da = pd.read_csv(url)\n",
    "print(\"Shape of the dataset:\", da.shape)\n",
    "da.head()"
   ]
  },
  {
   "cell_type": "markdown",
   "metadata": {},
   "source": [
    "### Data Cleaning and Preparation"
   ]
  },
  {
   "cell_type": "markdown",
   "metadata": {},
   "source": [
    "Some of the values such as \"Total Students\" were parsed in form of 5,600 instead of 5600. So, we need to put those values in the standard numeric form."
   ]
  },
  {
   "cell_type": "code",
   "execution_count": 3,
   "metadata": {},
   "outputs": [],
   "source": [
    "da.loc[:,'Total Students'] = da['Total Students'].str.replace(',', '')\n",
    "da.loc[:,'Academic Faculty Staff'] = da['Academic Faculty Staff'].str.replace(',', '')\n",
    "da.loc[:,'Number of International Students'] = da['Number of International Students'].str.replace(',', '')\n",
    "da.loc[:,'International Students'] = da['International Students'].str.replace(',', '')"
   ]
  },
  {
   "cell_type": "code",
   "execution_count": 4,
   "metadata": {},
   "outputs": [],
   "source": [
    "da=da.drop(columns = 'Scholarships', errors = 'ignore')"
   ]
  },
  {
   "cell_type": "markdown",
   "metadata": {},
   "source": [
    "Convert required features to the numeric from strings:"
   ]
  },
  {
   "cell_type": "code",
   "execution_count": 5,
   "metadata": {
    "scrolled": true
   },
   "outputs": [
    {
     "data": {
      "text/html": [
       "<div>\n",
       "<style scoped>\n",
       "    .dataframe tbody tr th:only-of-type {\n",
       "        vertical-align: middle;\n",
       "    }\n",
       "\n",
       "    .dataframe tbody tr th {\n",
       "        vertical-align: top;\n",
       "    }\n",
       "\n",
       "    .dataframe thead th {\n",
       "        text-align: right;\n",
       "    }\n",
       "</style>\n",
       "<table border=\"1\" class=\"dataframe\">\n",
       "  <thead>\n",
       "    <tr style=\"text-align: right;\">\n",
       "      <th></th>\n",
       "      <th>Name</th>\n",
       "      <th>Country</th>\n",
       "      <th>QS Global World Ranking</th>\n",
       "      <th>Status</th>\n",
       "      <th>Research Output</th>\n",
       "      <th>Total Students</th>\n",
       "      <th>Academic Faculty Staff</th>\n",
       "      <th>International Students</th>\n",
       "      <th>Overall Score</th>\n",
       "      <th>Academic Reputation</th>\n",
       "      <th>Employer Reputation</th>\n",
       "      <th>Faculty Student</th>\n",
       "      <th>Citations per Faculty</th>\n",
       "      <th>International Faculty</th>\n",
       "      <th>Number of International Students</th>\n",
       "      <th>Number of International Faculty</th>\n",
       "    </tr>\n",
       "  </thead>\n",
       "  <tbody>\n",
       "    <tr>\n",
       "      <th>0</th>\n",
       "      <td>University of Wollongong</td>\n",
       "      <td>Australia</td>\n",
       "      <td>#196</td>\n",
       "      <td>Public</td>\n",
       "      <td>Very High</td>\n",
       "      <td>19103</td>\n",
       "      <td>1404</td>\n",
       "      <td>86.0</td>\n",
       "      <td>43.2</td>\n",
       "      <td>31.3</td>\n",
       "      <td>34.5</td>\n",
       "      <td>19.2</td>\n",
       "      <td>71.0</td>\n",
       "      <td>91.8</td>\n",
       "      <td>5721</td>\n",
       "      <td>508</td>\n",
       "    </tr>\n",
       "    <tr>\n",
       "      <th>1</th>\n",
       "      <td>University of Amsterdam</td>\n",
       "      <td>NaN</td>\n",
       "      <td>#=61</td>\n",
       "      <td>Public</td>\n",
       "      <td>Very High</td>\n",
       "      <td>18234</td>\n",
       "      <td>2790</td>\n",
       "      <td>61.6</td>\n",
       "      <td>69.9</td>\n",
       "      <td>82.3</td>\n",
       "      <td>55.6</td>\n",
       "      <td>35.4</td>\n",
       "      <td>83.3</td>\n",
       "      <td>84.5</td>\n",
       "      <td>5943</td>\n",
       "      <td>890</td>\n",
       "    </tr>\n",
       "    <tr>\n",
       "      <th>2</th>\n",
       "      <td>Sapienza University of Rome</td>\n",
       "      <td>Italy</td>\n",
       "      <td>#171</td>\n",
       "      <td>Public</td>\n",
       "      <td>Very High</td>\n",
       "      <td>74483</td>\n",
       "      <td>3237</td>\n",
       "      <td>10.5</td>\n",
       "      <td>46.1</td>\n",
       "      <td>78.4</td>\n",
       "      <td>33.8</td>\n",
       "      <td>5.1</td>\n",
       "      <td>46.3</td>\n",
       "      <td>4.8</td>\n",
       "      <td>5860</td>\n",
       "      <td>103</td>\n",
       "    </tr>\n",
       "    <tr>\n",
       "      <th>3</th>\n",
       "      <td>Waseda University</td>\n",
       "      <td>Japan</td>\n",
       "      <td>#=189</td>\n",
       "      <td>Private</td>\n",
       "      <td>Very High</td>\n",
       "      <td>44078</td>\n",
       "      <td>3864</td>\n",
       "      <td>36.7</td>\n",
       "      <td>44.1</td>\n",
       "      <td>58.6</td>\n",
       "      <td>93.6</td>\n",
       "      <td>30.6</td>\n",
       "      <td>7.6</td>\n",
       "      <td>31.0</td>\n",
       "      <td>7209</td>\n",
       "      <td>553</td>\n",
       "    </tr>\n",
       "    <tr>\n",
       "      <th>4</th>\n",
       "      <td>Ludwig-Maximilians-Universität München</td>\n",
       "      <td>Germany</td>\n",
       "      <td>#63</td>\n",
       "      <td>Public</td>\n",
       "      <td>Very High</td>\n",
       "      <td>35858</td>\n",
       "      <td>3818</td>\n",
       "      <td>36.2</td>\n",
       "      <td>68.9</td>\n",
       "      <td>92.9</td>\n",
       "      <td>80.7</td>\n",
       "      <td>49.1</td>\n",
       "      <td>43.9</td>\n",
       "      <td>57.6</td>\n",
       "      <td>5816</td>\n",
       "      <td>846</td>\n",
       "    </tr>\n",
       "  </tbody>\n",
       "</table>\n",
       "</div>"
      ],
      "text/plain": [
       "                                     Name    Country QS Global World Ranking  \\\n",
       "0                University of Wollongong  Australia                    #196   \n",
       "1                 University of Amsterdam        NaN                    #=61   \n",
       "2             Sapienza University of Rome      Italy                    #171   \n",
       "3                       Waseda University      Japan                   #=189   \n",
       "4  Ludwig-Maximilians-Universität München    Germany                     #63   \n",
       "\n",
       "    Status Research Output  Total Students  Academic Faculty Staff  \\\n",
       "0   Public       Very High           19103                    1404   \n",
       "1   Public       Very High           18234                    2790   \n",
       "2   Public       Very High           74483                    3237   \n",
       "3  Private       Very High           44078                    3864   \n",
       "4   Public       Very High           35858                    3818   \n",
       "\n",
       "   International Students  Overall Score  Academic Reputation  \\\n",
       "0                    86.0           43.2                 31.3   \n",
       "1                    61.6           69.9                 82.3   \n",
       "2                    10.5           46.1                 78.4   \n",
       "3                    36.7           44.1                 58.6   \n",
       "4                    36.2           68.9                 92.9   \n",
       "\n",
       "   Employer Reputation  Faculty Student  Citations per Faculty  \\\n",
       "0                 34.5             19.2                   71.0   \n",
       "1                 55.6             35.4                   83.3   \n",
       "2                 33.8              5.1                   46.3   \n",
       "3                 93.6             30.6                    7.6   \n",
       "4                 80.7             49.1                   43.9   \n",
       "\n",
       "   International Faculty  Number of International Students  \\\n",
       "0                   91.8                              5721   \n",
       "1                   84.5                              5943   \n",
       "2                    4.8                              5860   \n",
       "3                   31.0                              7209   \n",
       "4                   57.6                              5816   \n",
       "\n",
       "   Number of International Faculty  \n",
       "0                              508  \n",
       "1                              890  \n",
       "2                              103  \n",
       "3                              553  \n",
       "4                              846  "
      ]
     },
     "execution_count": 5,
     "metadata": {},
     "output_type": "execute_result"
    }
   ],
   "source": [
    "da.iloc[:,5:] = da.iloc[:, 5:].apply(pd.to_numeric)\n",
    "da.head()"
   ]
  },
  {
   "cell_type": "markdown",
   "metadata": {},
   "source": [
    "Create a new feature indicating the region of the university:"
   ]
  },
  {
   "cell_type": "code",
   "execution_count": 6,
   "metadata": {},
   "outputs": [
    {
     "data": {
      "text/plain": [
       "array(['Australia', nan, 'Italy', 'Japan', 'Germany', 'South Korea',\n",
       "       'United States', 'United Kingdom', 'Hong Kong S.A.R.', 'Israel',\n",
       "       'Spain', 'Sweden', 'Argentina', 'Finland', 'Saudi Arabia',\n",
       "       'New Zealand', 'Russia', 'Belgium', 'Netherlands', 'Norway',\n",
       "       'India', 'Switzerland', 'Denmark', 'Malaysia', 'France',\n",
       "       'Philippines', 'Canada', 'Austria', 'China Mainland', 'Taiwan',\n",
       "       'Czech Republic', 'Jordan', 'Hungary', 'Lebanon', 'Thailand',\n",
       "       'United Arab Emirates', 'Ukraine', 'Iran', 'Ireland', 'Mexico',\n",
       "       'Pakistan', 'Colombia', 'Indonesia', 'Slovenia', 'Brazil',\n",
       "       'Greece', 'Uruguay', 'Lithuania', 'Kazakhstan', 'South Africa'],\n",
       "      dtype=object)"
      ]
     },
     "execution_count": 6,
     "metadata": {},
     "output_type": "execute_result"
    }
   ],
   "source": [
    "da.Country.unique()"
   ]
  },
  {
   "cell_type": "code",
   "execution_count": 7,
   "metadata": {},
   "outputs": [],
   "source": [
    "europe = ['United Kingdom', 'Austria','Belarus','Belgium', 'Czech Republic', 'Denmark', 'Finland' 'France', 'Germany','Greece', 'Israel', 'Ireland', 'Italy','Lithuania', 'Hungary' , 'Netherlands', 'Norway', 'Poland', 'Portugal' 'Russia', 'Slovenia', 'Spain', 'Sweden', 'Switzerland', 'Turkey']\n",
    "da.loc[da['Country']== ('United States'), 'Region'] = 'US'\n",
    "da.loc[da['Country'].isin(europe), 'Region'] = 'Europe'\n",
    "da.loc[(da['Country']!= 'United States') & (~da['Country'].isin(europe)), 'Region'] = 'Rest'"
   ]
  },
  {
   "cell_type": "markdown",
   "metadata": {},
   "source": [
    "## Some descriptive visualitions of data"
   ]
  },
  {
   "cell_type": "code",
   "execution_count": 8,
   "metadata": {},
   "outputs": [
    {
     "name": "stdout",
     "output_type": "stream",
     "text": [
      "Region\n",
      "Europe     73\n",
      "Rest      110\n",
      "US         46\n",
      "Name: Name, dtype: int64\n"
     ]
    },
    {
     "data": {
      "image/png": "[encoded data removed]",
      "text/plain": [
       "<Figure size 864x360 with 2 Axes>"
      ]
     },
     "metadata": {
      "needs_background": "light"
     },
     "output_type": "display_data"
    }
   ],
   "source": [
    "print(da.groupby('Region')['Name'].count())\n",
    "fig, ax =plt.subplots(1,2, figsize=(12, 5))\n",
    "sns.countplot(x=da['Region'], ax=ax[0]).set_title('Distribution of the universities among regions')\n",
    "sns.boxplot(x=\"Region\", y=\"Total Students\", data=da, ax=ax[1]).set_title('Distribution of Total Students number among regions')\n",
    "plt.show()"
   ]
  },
  {
   "cell_type": "markdown",
   "metadata": {},
   "source": [
    "From the visualisations above, it can be seen that indeed in our sample choosen regions have comparable variables and can be used for further analysis, since each region has 30+ observations."
   ]
  },
  {
   "cell_type": "markdown",
   "metadata": {},
   "source": [
    "## Answering the RQ: Considering all 1000 universities from QS World Rankings 2021, is there a significant difference in average international student ratios between universities from the US, Europe and rest of the World?"
   ]
  },
  {
   "cell_type": "markdown",
   "metadata": {},
   "source": [
    "The trivial way to answer this question is to compare the means of the international student ratios of universities group by their Regions. To compare them we can conduct a _Difference in two means hypothesis test_. "
   ]
  },
  {
   "cell_type": "markdown",
   "metadata": {},
   "source": [
    "For that purpose, first, the feature indicating the international student ratio is created:"
   ]
  },
  {
   "cell_type": "code",
   "execution_count": 9,
   "metadata": {},
   "outputs": [],
   "source": [
    "da['Int Student Ratio'] = da['Number of International Students']/da['Total Students']\n",
    "da['Int Faculty Ratio'] = da['Number of International Faculty']/da['Academic Faculty Staff']"
   ]
  },
  {
   "cell_type": "markdown",
   "metadata": {},
   "source": [
    "Visualize the distributions of those ratios among regions:"
   ]
  },
  {
   "cell_type": "code",
   "execution_count": 10,
   "metadata": {},
   "outputs": [
    {
     "data": {
      "text/plain": [
       "Text(0.5, 1.0, 'Distribution of the international student ratios')"
      ]
     },
     "execution_count": 10,
     "metadata": {},
     "output_type": "execute_result"
    },
    {
     "data": {
      "image/png": "[encoded data removed]",
      "text/plain": [
       "<Figure size 864x360 with 1 Axes>"
      ]
     },
     "metadata": {
      "needs_background": "light"
     },
     "output_type": "display_data"
    }
   ],
   "source": [
    "plt.figure(figsize=(12, 5))  \n",
    "sns.boxplot(x=\"Region\", y=\"Int Student Ratio\", data=da).set_title('Distribution of the international student ratios')"
   ]
  },
  {
   "cell_type": "code",
   "execution_count": 11,
   "metadata": {},
   "outputs": [
    {
     "data": {
      "text/plain": [
       "Region\n",
       "Europe    0.196132\n",
       "Rest      0.142834\n",
       "US        0.142587\n",
       "Name: Int Student Ratio, dtype: float64"
      ]
     },
     "execution_count": 11,
     "metadata": {},
     "output_type": "execute_result"
    }
   ],
   "source": [
    "ps = da[[\"Region\", \"Int Student Ratio\"]]\n",
    "ps_us = ps.loc[ps.Region == 'US', \"Int Student Ratio\"]\n",
    "ps_eu = ps.loc[ps.Region == 'Europe', \"Int Student Ratio\"]\n",
    "ps_rest = ps.loc[ps.Region == 'Rest', \"Int Student Ratio\"]\n",
    "da.groupby('Region')['Int Student Ratio'].mean()"
   ]
  },
  {
   "cell_type": "markdown",
   "metadata": {},
   "source": [
    "From the boxplots and numbers above, it can be seen that in our sample the US and Rest of the World universities have relatively the same mean ratios, whereas the number for Europe universities is slightly higher. \n",
    "<br>_But, does this relation remains the same for the whole population of the 1000 universities?_"
   ]
  },
  {
   "cell_type": "markdown",
   "metadata": {},
   "source": [
    "To answer this question, it seem reasonable to do 2 test only: first compare 2 statistics that seem similar: avg ratios in the US and Rest of the World, and then compare rest of the world with Europe.\n",
    "<br>To conduct difference in 2 sample means test 3 assumptions must be verified:\n",
    "<br> 1) Data is simple random sample - ensured by the way data is collected\n",
    "<br> 2) Two means should come from independant samples - we can assume that regions are independant from each other\n",
    "<br> 3) Distributions should be normal - all sample sizes for regions are large enough: >30"
   ]
  },
  {
   "cell_type": "markdown",
   "metadata": {},
   "source": [
    "Testing Difference in Population Means (for Independent Groups, without equal variance assumption):"
   ]
  },
  {
   "cell_type": "markdown",
   "metadata": {},
   "source": [
    "I.\n",
    "<br>$H_0: \\mu_{us}=\\mu_{rest}$\n",
    "<br>$H_1: \\mu_{us}\\ne \\mu_{rest}$"
   ]
  },
  {
   "cell_type": "code",
   "execution_count": 12,
   "metadata": {
    "scrolled": true
   },
   "outputs": [
    {
     "name": "stdout",
     "output_type": "stream",
     "text": [
      "mu_us =  0.14258690746617173\n",
      "mu_rest =  0.1428343040166527\n",
      "Ttest_indResult(statistic=-0.012902327700079383, pvalue=0.9897228719037136)\n"
     ]
    }
   ],
   "source": [
    "print(\"mu_us = \", ps_us.mean())\n",
    "print(\"mu_rest = \", ps_rest.mean())\n",
    "print(sp.stats.ttest_ind(ps_us, ps_rest, equal_var=False)) "
   ]
  },
  {
   "cell_type": "markdown",
   "metadata": {},
   "source": [
    "If we consider our $\\alpha$=0.05, then pvalue > $\\alpha$, therefore we __FTR the null hypothesis__"
   ]
  },
  {
   "cell_type": "markdown",
   "metadata": {},
   "source": [
    "II.\n",
    "<br>$H_0: \\mu_{eu}=\\mu_{rest}$\n",
    "<br>$H_1: \\mu_{eu}\\ne \\mu_{rest}$"
   ]
  },
  {
   "cell_type": "code",
   "execution_count": 13,
   "metadata": {
    "scrolled": true
   },
   "outputs": [
    {
     "name": "stdout",
     "output_type": "stream",
     "text": [
      "mu_eu =  0.1961321535352771\n",
      "mu_rest =  0.1428343040166527\n",
      "Ttest_indResult(statistic=2.5250064495788336, pvalue=0.012451762682738805)\n"
     ]
    }
   ],
   "source": [
    "print(\"mu_eu = \", ps_eu.mean())\n",
    "print(\"mu_rest = \", ps_rest.mean())\n",
    "print(sp.stats.ttest_ind(ps_eu, ps_rest, equal_var=False))"
   ]
  },
  {
   "cell_type": "markdown",
   "metadata": {},
   "source": [
    "Again, taking $\\alpha$=0.05, now we __Reject the null hypothesis__\n",
    "<br> __Summary:__ As we can see from the results of the 2 hypothesis tests, we can summarize that the difference in mean ratios of the universities in US and rest of the world is not significant. However, second test suggests that observing these sample mean values in Europe and rest of the world while having same population means is very unlikely. "
   ]
  },
  {
   "cell_type": "markdown",
   "metadata": {},
   "source": [
    "### Answering the RQ: another approach"
   ]
  },
  {
   "cell_type": "markdown",
   "metadata": {},
   "source": [
    "To check whether indeed difference between ratios of the international students in Europe and US&Rest of the world is significant, another approach was used."
   ]
  },
  {
   "cell_type": "markdown",
   "metadata": {},
   "source": [
    "Lets' first introduce new variable, regarding as \"Is internationalized?\", which indicates whether certain university's International student ratio is equal or above the worlds average value:"
   ]
  },
  {
   "cell_type": "code",
   "execution_count": 14,
   "metadata": {
    "scrolled": true
   },
   "outputs": [
    {
     "data": {
      "text/html": [
       "<div>\n",
       "<style scoped>\n",
       "    .dataframe tbody tr th:only-of-type {\n",
       "        vertical-align: middle;\n",
       "    }\n",
       "\n",
       "    .dataframe tbody tr th {\n",
       "        vertical-align: top;\n",
       "    }\n",
       "\n",
       "    .dataframe thead th {\n",
       "        text-align: right;\n",
       "    }\n",
       "</style>\n",
       "<table border=\"1\" class=\"dataframe\">\n",
       "  <thead>\n",
       "    <tr style=\"text-align: right;\">\n",
       "      <th></th>\n",
       "      <th>Name</th>\n",
       "      <th>Country</th>\n",
       "      <th>QS Global World Ranking</th>\n",
       "      <th>Status</th>\n",
       "      <th>Research Output</th>\n",
       "      <th>Total Students</th>\n",
       "      <th>Academic Faculty Staff</th>\n",
       "      <th>International Students</th>\n",
       "      <th>Overall Score</th>\n",
       "      <th>Academic Reputation</th>\n",
       "      <th>Employer Reputation</th>\n",
       "      <th>Faculty Student</th>\n",
       "      <th>Citations per Faculty</th>\n",
       "      <th>International Faculty</th>\n",
       "      <th>Number of International Students</th>\n",
       "      <th>Number of International Faculty</th>\n",
       "      <th>Region</th>\n",
       "      <th>Int Student Ratio</th>\n",
       "      <th>Int Faculty Ratio</th>\n",
       "      <th>Is intnl?</th>\n",
       "    </tr>\n",
       "  </thead>\n",
       "  <tbody>\n",
       "    <tr>\n",
       "      <th>0</th>\n",
       "      <td>University of Wollongong</td>\n",
       "      <td>Australia</td>\n",
       "      <td>#196</td>\n",
       "      <td>Public</td>\n",
       "      <td>Very High</td>\n",
       "      <td>19103</td>\n",
       "      <td>1404</td>\n",
       "      <td>86.0</td>\n",
       "      <td>43.2</td>\n",
       "      <td>31.3</td>\n",
       "      <td>34.5</td>\n",
       "      <td>19.2</td>\n",
       "      <td>71.0</td>\n",
       "      <td>91.8</td>\n",
       "      <td>5721</td>\n",
       "      <td>508</td>\n",
       "      <td>Rest</td>\n",
       "      <td>0.299482</td>\n",
       "      <td>0.361823</td>\n",
       "      <td>True</td>\n",
       "    </tr>\n",
       "    <tr>\n",
       "      <th>1</th>\n",
       "      <td>University of Amsterdam</td>\n",
       "      <td>NaN</td>\n",
       "      <td>#=61</td>\n",
       "      <td>Public</td>\n",
       "      <td>Very High</td>\n",
       "      <td>18234</td>\n",
       "      <td>2790</td>\n",
       "      <td>61.6</td>\n",
       "      <td>69.9</td>\n",
       "      <td>82.3</td>\n",
       "      <td>55.6</td>\n",
       "      <td>35.4</td>\n",
       "      <td>83.3</td>\n",
       "      <td>84.5</td>\n",
       "      <td>5943</td>\n",
       "      <td>890</td>\n",
       "      <td>Rest</td>\n",
       "      <td>0.325930</td>\n",
       "      <td>0.318996</td>\n",
       "      <td>True</td>\n",
       "    </tr>\n",
       "    <tr>\n",
       "      <th>2</th>\n",
       "      <td>Sapienza University of Rome</td>\n",
       "      <td>Italy</td>\n",
       "      <td>#171</td>\n",
       "      <td>Public</td>\n",
       "      <td>Very High</td>\n",
       "      <td>74483</td>\n",
       "      <td>3237</td>\n",
       "      <td>10.5</td>\n",
       "      <td>46.1</td>\n",
       "      <td>78.4</td>\n",
       "      <td>33.8</td>\n",
       "      <td>5.1</td>\n",
       "      <td>46.3</td>\n",
       "      <td>4.8</td>\n",
       "      <td>5860</td>\n",
       "      <td>103</td>\n",
       "      <td>Europe</td>\n",
       "      <td>0.078676</td>\n",
       "      <td>0.031820</td>\n",
       "      <td>False</td>\n",
       "    </tr>\n",
       "    <tr>\n",
       "      <th>3</th>\n",
       "      <td>Waseda University</td>\n",
       "      <td>Japan</td>\n",
       "      <td>#=189</td>\n",
       "      <td>Private</td>\n",
       "      <td>Very High</td>\n",
       "      <td>44078</td>\n",
       "      <td>3864</td>\n",
       "      <td>36.7</td>\n",
       "      <td>44.1</td>\n",
       "      <td>58.6</td>\n",
       "      <td>93.6</td>\n",
       "      <td>30.6</td>\n",
       "      <td>7.6</td>\n",
       "      <td>31.0</td>\n",
       "      <td>7209</td>\n",
       "      <td>553</td>\n",
       "      <td>Rest</td>\n",
       "      <td>0.163551</td>\n",
       "      <td>0.143116</td>\n",
       "      <td>True</td>\n",
       "    </tr>\n",
       "    <tr>\n",
       "      <th>4</th>\n",
       "      <td>Ludwig-Maximilians-Universität München</td>\n",
       "      <td>Germany</td>\n",
       "      <td>#63</td>\n",
       "      <td>Public</td>\n",
       "      <td>Very High</td>\n",
       "      <td>35858</td>\n",
       "      <td>3818</td>\n",
       "      <td>36.2</td>\n",
       "      <td>68.9</td>\n",
       "      <td>92.9</td>\n",
       "      <td>80.7</td>\n",
       "      <td>49.1</td>\n",
       "      <td>43.9</td>\n",
       "      <td>57.6</td>\n",
       "      <td>5816</td>\n",
       "      <td>846</td>\n",
       "      <td>Europe</td>\n",
       "      <td>0.162195</td>\n",
       "      <td>0.221582</td>\n",
       "      <td>True</td>\n",
       "    </tr>\n",
       "  </tbody>\n",
       "</table>\n",
       "</div>"
      ],
      "text/plain": [
       "                                     Name    Country QS Global World Ranking  \\\n",
       "0                University of Wollongong  Australia                    #196   \n",
       "1                 University of Amsterdam        NaN                    #=61   \n",
       "2             Sapienza University of Rome      Italy                    #171   \n",
       "3                       Waseda University      Japan                   #=189   \n",
       "4  Ludwig-Maximilians-Universität München    Germany                     #63   \n",
       "\n",
       "    Status Research Output  Total Students  Academic Faculty Staff  \\\n",
       "0   Public       Very High           19103                    1404   \n",
       "1   Public       Very High           18234                    2790   \n",
       "2   Public       Very High           74483                    3237   \n",
       "3  Private       Very High           44078                    3864   \n",
       "4   Public       Very High           35858                    3818   \n",
       "\n",
       "   International Students  Overall Score  Academic Reputation  \\\n",
       "0                    86.0           43.2                 31.3   \n",
       "1                    61.6           69.9                 82.3   \n",
       "2                    10.5           46.1                 78.4   \n",
       "3                    36.7           44.1                 58.6   \n",
       "4                    36.2           68.9                 92.9   \n",
       "\n",
       "   Employer Reputation  Faculty Student  Citations per Faculty  \\\n",
       "0                 34.5             19.2                   71.0   \n",
       "1                 55.6             35.4                   83.3   \n",
       "2                 33.8              5.1                   46.3   \n",
       "3                 93.6             30.6                    7.6   \n",
       "4                 80.7             49.1                   43.9   \n",
       "\n",
       "   International Faculty  Number of International Students  \\\n",
       "0                   91.8                              5721   \n",
       "1                   84.5                              5943   \n",
       "2                    4.8                              5860   \n",
       "3                   31.0                              7209   \n",
       "4                   57.6                              5816   \n",
       "\n",
       "   Number of International Faculty  Region  Int Student Ratio  \\\n",
       "0                              508    Rest           0.299482   \n",
       "1                              890    Rest           0.325930   \n",
       "2                              103  Europe           0.078676   \n",
       "3                              553    Rest           0.163551   \n",
       "4                              846  Europe           0.162195   \n",
       "\n",
       "   Int Faculty Ratio  Is intnl?  \n",
       "0           0.361823       True  \n",
       "1           0.318996       True  \n",
       "2           0.031820      False  \n",
       "3           0.143116       True  \n",
       "4           0.221582       True  "
      ]
     },
     "execution_count": 14,
     "metadata": {},
     "output_type": "execute_result"
    }
   ],
   "source": [
    "da['Is intnl?'] = np.where(da['Int Student Ratio']>= da['Int Student Ratio'].mean(), True, False)\n",
    "da.head()"
   ]
  },
  {
   "cell_type": "markdown",
   "metadata": {},
   "source": [
    "Now, we can check the difference in the proportions of the universities which are \"Internationalized\" in each region."
   ]
  },
  {
   "cell_type": "code",
   "execution_count": 15,
   "metadata": {},
   "outputs": [],
   "source": [
    "x_eu = da.loc[(da['Is intnl?'] == True) & (da['Region'] == \"Europe\"), 'Name'].count()\n",
    "x_us = da.loc[(da['Is intnl?'] == True) & (da['Region'] == \"US\"), 'Name'].count()\n",
    "x_rest = da.loc[(da['Is intnl?'] == True) & (da['Region'] == \"Rest\"), 'Name'].count()\n",
    "n_eu = da.loc[da['Region'] == \"Europe\", 'Name'].count()\n",
    "n_us = da.loc[da['Region'] == \"US\", 'Name'].count()\n",
    "n_rest = da.loc[da['Region'] == \"Rest\", 'Name'].count()"
   ]
  },
  {
   "cell_type": "code",
   "execution_count": 16,
   "metadata": {
    "scrolled": true
   },
   "outputs": [
    {
     "name": "stdout",
     "output_type": "stream",
     "text": [
      "Proportional of 'Internationalized' unis in Europe: 0.4931506849315068\n",
      "Proportional of 'Internationalized' unis in US: 0.34782608695652173\n",
      "Proportional of 'Internationalized' unis in rest of the world: 0.3090909090909091\n"
     ]
    }
   ],
   "source": [
    "p_eu = x_eu/n_eu\n",
    "p_us = x_us/n_us\n",
    "p_rest = x_rest/n_rest\n",
    "print(\"Proportional of 'Internationalized' unis in Europe:\",p_eu)\n",
    "print(\"Proportional of 'Internationalized' unis in US:\",p_us)\n",
    "print(\"Proportional of 'Internationalized' unis in rest of the world:\",p_rest)"
   ]
  },
  {
   "cell_type": "markdown",
   "metadata": {},
   "source": [
    "Test of difference in population proportions:\n",
    "<br>Ia.\n",
    "<br>$H_0: p_{us}=p_{rest}$\n",
    "<br>$H_1: p_{us}\\ne p_{rest}$"
   ]
  },
  {
   "cell_type": "code",
   "execution_count": 17,
   "metadata": {},
   "outputs": [
    {
     "data": {
      "text/plain": [
       "Ttest_indResult(statistic=-0.47001803079244847, pvalue=0.6390070428011604)"
      ]
     },
     "execution_count": 17,
     "metadata": {},
     "output_type": "execute_result"
    }
   ],
   "source": [
    "sp.stats.ttest_ind(da.loc[da['Region'] == \"Rest\", 'Is intnl?'], da.loc[da['Region'] == \"US\", 'Is intnl?'])"
   ]
  },
  {
   "cell_type": "markdown",
   "metadata": {},
   "source": [
    "Again, we FTR the null hypothesis."
   ]
  },
  {
   "cell_type": "markdown",
   "metadata": {},
   "source": [
    "<br>IIa.\n",
    "<br>$H_0: p_{eu}=p_{rest}$\n",
    "<br>$H_1: p_{eu}\\ne p_{rest}$"
   ]
  },
  {
   "cell_type": "code",
   "execution_count": 18,
   "metadata": {},
   "outputs": [
    {
     "name": "stdout",
     "output_type": "stream",
     "text": [
      "Ttest_indResult(statistic=2.539026706294665, pvalue=0.01195801492340899)\n"
     ]
    }
   ],
   "source": [
    "print(sp.stats.ttest_ind(da.loc[da['Region'] == \"Europe\", 'Is intnl?'], da.loc[da['Region'] == \"Rest\", 'Is intnl?']))"
   ]
  },
  {
   "cell_type": "markdown",
   "metadata": {},
   "source": [
    "Since pvalue < sl, we reject the H_0"
   ]
  },
  {
   "cell_type": "markdown",
   "metadata": {},
   "source": [
    "### Subject of interest:\n",
    "While I was describing my project to my friend, he asked an interesting question beyon the main research question of the project. His question was - __Considering the sample of the project, is there any correlation between International Students and International Faculty ratios?__"
   ]
  },
  {
   "cell_type": "code",
   "execution_count": 19,
   "metadata": {},
   "outputs": [
    {
     "data": {
      "image/png": "[encoded data removed]",
      "text/plain": [
       "<Figure size 432x288 with 1 Axes>"
      ]
     },
     "metadata": {
      "needs_background": "light"
     },
     "output_type": "display_data"
    }
   ],
   "source": [
    "plt.scatter(x=da['Int Faculty Ratio'], y=da['Int Student Ratio'])\n",
    "plt.show()"
   ]
  },
  {
   "cell_type": "code",
   "execution_count": 20,
   "metadata": {},
   "outputs": [
    {
     "data": {
      "text/plain": [
       "0.7433172537391041"
      ]
     },
     "execution_count": 20,
     "metadata": {},
     "output_type": "execute_result"
    }
   ],
   "source": [
    "r = np.corrcoef(da['Int Faculty Ratio'], da['Int Student Ratio'])\n",
    "r[0,1]"
   ]
  },
  {
   "cell_type": "markdown",
   "metadata": {},
   "source": [
    "Interestingly, indeed, there is a strong correlation between the proportion of international faculty employed and the proportion of international students admitted:)"
   ]
  },
  {
   "cell_type": "markdown",
   "metadata": {},
   "source": [
    "### Conclusion\n",
    "On the basis of the retrieved sample of 229 universities, research question was answered. First and trivial approach was to conduct a _Difference in Population Means_ test. All the required assumptions were verified in order for this test to work properly. Results suggested that while we cannot support the statement about significant difference in the mean ratios of the US and the rest of the world, we have evidence to expect the population of universities of Europe and the rest of the world to have different means. \n",
    "<br> To verify the answer of the RQ, alternative proportion test was conducted. Although, it actually tested a slightly different things, results corresponded to the initial tests results.\n",
    "<br> In addition, to answering the focus question, this notebook also provides an interesting observation met during the work on the project.\n",
    "<br><br> The __reliability__ of the answer and methodology used for the RQ can be furtherly improved by sampling more number of universities. Also, possibly, clustering so that each region will have some minimum number of universities sampled will help the accuracy of the sample statistics. \n",
    "<br><br> The sample of this project gives an information only about the universities listed in the QS rankings, which cannon be generalized to the whole universities population. If to continue this work further, I would use another ranking datasets too. Also, I encountered the problem of unstability of the QS webpages. They have thrown some errors randomly sometimes, taking a lot of time to start from the beginning. I would use another Times Higher Education Ranking instead. And finally, I really wanted to come with the question of real importance to me, but available data and, possibly, lack of imagination did not allowed to do so. So, I would spend some more time on thinking about research question that is more interesting and helpful.\n"
   ]
  }
 ],
 "metadata": {
  "kernelspec": {
   "display_name": "Python 3",
   "language": "python",
   "name": "python3"
  },
  "language_info": {
   "codemirror_mode": {
    "name": "ipython",
    "version": 3
   },
   "file_extension": ".py",
   "mimetype": "text/x-python",
   "name": "python",
   "nbconvert_exporter": "python",
   "pygments_lexer": "ipython3",
   "version": "3.7.1"
  }
 },
 "nbformat": 4,
 "nbformat_minor": 2
}
