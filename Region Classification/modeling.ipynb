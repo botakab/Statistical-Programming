{
 "cells": [
  {
   "cell_type": "markdown",
   "metadata": {},
   "source": [
    "# Introduction"
   ]
  },
  {
   "cell_type": "markdown",
   "metadata": {},
   "source": [
    "The Project 2 required us to focus on the modeling of the data used in Project 1. \n",
    "\n",
    "### About the dataset: \n",
    "My initial dataset were retrieved from https://www.topuniversities.com/university-rankings/world-university-rankings/2021 webpage, and consisted of randomly sampled universities among top-1000. \n",
    "The project 1 used only 209 samples. However, for the task of modeling this number seemed not enought. \n",
    "\n",
    "Therefore, if before I randomly sampled 50 universities from 5 batches of 200 universities, now all 1000 were scrapped from the QS ranking list. Some of the universities there (especially ones ranked low) lack a lot of information, therefore were skipped by the get_data.py code. \n",
    "\n",
    "In this way, finally my data.csv dataset consisted of 706 samples (universities) and 16 features (statistics). This is the maximum number that can be got from QS webpage. \n",
    "\n",
    "### Motivation for modeling\n",
    "Features are the info statistics about the certain university - its scores of different metrics, status and so on. Most of those 16 features could be a potential output variable for further prediction. However, since samples were from ranking list, feature _\"Overall Score\"_ seem to include all of the numeric information. Therefore, I assumed that there already was some linear dependancy between numeric variables, making them not interesting to predict. Instead, I categorized the __region of the university - The USA - 0, Europe - 1 and the rest of the World - 2 and tried to predict it.__\n",
    "\n",
    "Therefore, my modeling was of classification type. Following notebook includes:\n",
    "\n",
    "Model 1: Softmax Regression;\n",
    "\n",
    "Model 2: Shallow Neural Networks - Hidden Layer Size = \n",
    "\n",
    "Model 3: Deep Neural Networks - Hidden Layers Num = 2, Size1 = , Size2 = \n",
    "\n"
   ]
  },
  {
   "cell_type": "code",
   "execution_count": 1,
   "metadata": {},
   "outputs": [],
   "source": [
    "from torch import nn\n",
    "import torch\n",
    "import numpy as np\n",
    "import matplotlib.pyplot as plt\n",
    "from torch import nn,optim\n",
    "import pandas as pd\n",
    "from torch.autograd import Variable\n",
    "from torch.nn import functional as F\n",
    "from mpl_toolkits.mplot3d import Axes3D\n",
    "from torch.utils.data import Dataset, DataLoader"
   ]
  },
  {
   "cell_type": "markdown",
   "metadata": {},
   "source": [
    "# Dataset Preparation"
   ]
  },
  {
   "cell_type": "markdown",
   "metadata": {},
   "source": [
    "## Preprocessing"
   ]
  },
  {
   "cell_type": "code",
   "execution_count": 2,
   "metadata": {},
   "outputs": [
    {
     "name": "stdout",
     "output_type": "stream",
     "text": [
      "Shape of the dataset: (706, 16)\n"
     ]
    },
    {
     "data": {
      "text/html": [
       "<div>\n",
       "<style scoped>\n",
       "    .dataframe tbody tr th:only-of-type {\n",
       "        vertical-align: middle;\n",
       "    }\n",
       "\n",
       "    .dataframe tbody tr th {\n",
       "        vertical-align: top;\n",
       "    }\n",
       "\n",
       "    .dataframe thead th {\n",
       "        text-align: right;\n",
       "    }\n",
       "</style>\n",
       "<table border=\"1\" class=\"dataframe\">\n",
       "  <thead>\n",
       "    <tr style=\"text-align: right;\">\n",
       "      <th></th>\n",
       "      <th>Name</th>\n",
       "      <th>Country</th>\n",
       "      <th>QS Global World Ranking</th>\n",
       "      <th>Status</th>\n",
       "      <th>Research Output</th>\n",
       "      <th>Total Students</th>\n",
       "      <th>Academic Faculty Staff</th>\n",
       "      <th>International Students</th>\n",
       "      <th>Overall Score</th>\n",
       "      <th>Academic Reputation</th>\n",
       "      <th>Employer Reputation</th>\n",
       "      <th>Faculty Student</th>\n",
       "      <th>Citations per Faculty</th>\n",
       "      <th>International Faculty</th>\n",
       "      <th>Number of International Students</th>\n",
       "      <th>Number of International Faculty</th>\n",
       "    </tr>\n",
       "  </thead>\n",
       "  <tbody>\n",
       "    <tr>\n",
       "      <th>0</th>\n",
       "      <td>Massachusetts Institute of Technology (MIT)</td>\n",
       "      <td>United States</td>\n",
       "      <td>#1</td>\n",
       "      <td>Private</td>\n",
       "      <td>Very High</td>\n",
       "      <td>11,342</td>\n",
       "      <td>3,011</td>\n",
       "      <td>91.9</td>\n",
       "      <td>100.0</td>\n",
       "      <td>100.0</td>\n",
       "      <td>100.0</td>\n",
       "      <td>100.0</td>\n",
       "      <td>99.1</td>\n",
       "      <td>100.0</td>\n",
       "      <td>3,745</td>\n",
       "      <td>1681.0</td>\n",
       "    </tr>\n",
       "    <tr>\n",
       "      <th>1</th>\n",
       "      <td>Stanford University</td>\n",
       "      <td>United States</td>\n",
       "      <td>#2</td>\n",
       "      <td>Private</td>\n",
       "      <td>Very High</td>\n",
       "      <td>16,260</td>\n",
       "      <td>4,478</td>\n",
       "      <td>63.6</td>\n",
       "      <td>98.4</td>\n",
       "      <td>100.0</td>\n",
       "      <td>100.0</td>\n",
       "      <td>100.0</td>\n",
       "      <td>98.1</td>\n",
       "      <td>99.7</td>\n",
       "      <td>3,665</td>\n",
       "      <td>2166.0</td>\n",
       "    </tr>\n",
       "    <tr>\n",
       "      <th>2</th>\n",
       "      <td>Harvard University</td>\n",
       "      <td>United States</td>\n",
       "      <td>#3</td>\n",
       "      <td>Private</td>\n",
       "      <td>Very High</td>\n",
       "      <td>23,583</td>\n",
       "      <td>4,556</td>\n",
       "      <td>69.9</td>\n",
       "      <td>97.9</td>\n",
       "      <td>100.0</td>\n",
       "      <td>100.0</td>\n",
       "      <td>98.6</td>\n",
       "      <td>99.1</td>\n",
       "      <td>85.2</td>\n",
       "      <td>5,816</td>\n",
       "      <td>1466.0</td>\n",
       "    </tr>\n",
       "    <tr>\n",
       "      <th>3</th>\n",
       "      <td>California Institute of Technology (Caltech)</td>\n",
       "      <td>United States</td>\n",
       "      <td>#4</td>\n",
       "      <td>Private</td>\n",
       "      <td>Very High</td>\n",
       "      <td>2,237</td>\n",
       "      <td>1,059</td>\n",
       "      <td>88.2</td>\n",
       "      <td>97.0</td>\n",
       "      <td>97.0</td>\n",
       "      <td>82.8</td>\n",
       "      <td>100.0</td>\n",
       "      <td>99.9</td>\n",
       "      <td>100.0</td>\n",
       "      <td>692</td>\n",
       "      <td>563.0</td>\n",
       "    </tr>\n",
       "    <tr>\n",
       "      <th>4</th>\n",
       "      <td>University of Oxford</td>\n",
       "      <td>United Kingdom</td>\n",
       "      <td>#5</td>\n",
       "      <td>Public</td>\n",
       "      <td>Very High</td>\n",
       "      <td>20,786</td>\n",
       "      <td>6,650</td>\n",
       "      <td>98.3</td>\n",
       "      <td>96.7</td>\n",
       "      <td>100.0</td>\n",
       "      <td>100.0</td>\n",
       "      <td>100.0</td>\n",
       "      <td>81.3</td>\n",
       "      <td>99.4</td>\n",
       "      <td>8,259</td>\n",
       "      <td>3137.0</td>\n",
       "    </tr>\n",
       "  </tbody>\n",
       "</table>\n",
       "</div>"
      ],
      "text/plain": [
       "                                           Name         Country  \\\n",
       "0   Massachusetts Institute of Technology (MIT)   United States   \n",
       "1                           Stanford University   United States   \n",
       "2                            Harvard University   United States   \n",
       "3  California Institute of Technology (Caltech)   United States   \n",
       "4                          University of Oxford  United Kingdom   \n",
       "\n",
       "  QS Global World Ranking   Status Research Output Total Students  \\\n",
       "0                      #1  Private       Very High         11,342   \n",
       "1                      #2  Private       Very High         16,260   \n",
       "2                      #3  Private       Very High         23,583   \n",
       "3                      #4  Private       Very High          2,237   \n",
       "4                      #5   Public       Very High         20,786   \n",
       "\n",
       "  Academic Faculty Staff International Students  Overall Score  \\\n",
       "0                  3,011                   91.9          100.0   \n",
       "1                  4,478                   63.6           98.4   \n",
       "2                  4,556                   69.9           97.9   \n",
       "3                  1,059                   88.2           97.0   \n",
       "4                  6,650                   98.3           96.7   \n",
       "\n",
       "   Academic Reputation  Employer Reputation  Faculty Student  \\\n",
       "0                100.0                100.0            100.0   \n",
       "1                100.0                100.0            100.0   \n",
       "2                100.0                100.0             98.6   \n",
       "3                 97.0                 82.8            100.0   \n",
       "4                100.0                100.0            100.0   \n",
       "\n",
       "   Citations per Faculty  International Faculty  \\\n",
       "0                   99.1                  100.0   \n",
       "1                   98.1                   99.7   \n",
       "2                   99.1                   85.2   \n",
       "3                   99.9                  100.0   \n",
       "4                   81.3                   99.4   \n",
       "\n",
       "  Number of International Students  Number of International Faculty  \n",
       "0                            3,745                           1681.0  \n",
       "1                            3,665                           2166.0  \n",
       "2                            5,816                           1466.0  \n",
       "3                              692                            563.0  \n",
       "4                            8,259                           3137.0  "
      ]
     },
     "execution_count": 2,
     "metadata": {},
     "output_type": "execute_result"
    }
   ],
   "source": [
    "file = \"data1.csv\"\n",
    "da = pd.read_csv(file)\n",
    "print(\"Shape of the dataset:\", da.shape)\n",
    "da.head()"
   ]
  },
  {
   "cell_type": "code",
   "execution_count": 3,
   "metadata": {
    "scrolled": true
   },
   "outputs": [],
   "source": [
    "# making values as a numeric type \n",
    "da.loc[:,'Total Students'] = da['Total Students'].str.replace(',', '')\n",
    "da.loc[:,'Academic Faculty Staff'] = da['Academic Faculty Staff'].str.replace(',', '')\n",
    "da.loc[:,'Number of International Students'] = da['Number of International Students'].str.replace(',', '')\n",
    "da.loc[:,'International Students'] = da['International Students'].str.replace(',', '')\n",
    "da['Rank'] = range(1, len(da) + 1)  # rankings from 1 to length of data\n",
    "da = da.drop(columns = 'Scholarships', errors = 'ignore')  # contains too many nan values\n",
    "da.iloc[:,5:] = da.iloc[:,5:].apply(pd.to_numeric)"
   ]
  },
  {
   "cell_type": "code",
   "execution_count": 4,
   "metadata": {},
   "outputs": [
    {
     "data": {
      "text/html": [
       "<div>\n",
       "<style scoped>\n",
       "    .dataframe tbody tr th:only-of-type {\n",
       "        vertical-align: middle;\n",
       "    }\n",
       "\n",
       "    .dataframe tbody tr th {\n",
       "        vertical-align: top;\n",
       "    }\n",
       "\n",
       "    .dataframe thead th {\n",
       "        text-align: right;\n",
       "    }\n",
       "</style>\n",
       "<table border=\"1\" class=\"dataframe\">\n",
       "  <thead>\n",
       "    <tr style=\"text-align: right;\">\n",
       "      <th></th>\n",
       "      <th>Name</th>\n",
       "      <th>Country</th>\n",
       "      <th>QS Global World Ranking</th>\n",
       "      <th>Status</th>\n",
       "      <th>Research Output</th>\n",
       "      <th>Total Students</th>\n",
       "      <th>Academic Faculty Staff</th>\n",
       "      <th>International Students</th>\n",
       "      <th>Overall Score</th>\n",
       "      <th>Academic Reputation</th>\n",
       "      <th>Employer Reputation</th>\n",
       "      <th>Faculty Student</th>\n",
       "      <th>Citations per Faculty</th>\n",
       "      <th>International Faculty</th>\n",
       "      <th>Number of International Students</th>\n",
       "      <th>Number of International Faculty</th>\n",
       "      <th>Rank</th>\n",
       "      <th>Region</th>\n",
       "    </tr>\n",
       "  </thead>\n",
       "  <tbody>\n",
       "    <tr>\n",
       "      <th>0</th>\n",
       "      <td>Massachusetts Institute of Technology (MIT)</td>\n",
       "      <td>United States</td>\n",
       "      <td>#1</td>\n",
       "      <td>Private</td>\n",
       "      <td>Very High</td>\n",
       "      <td>11342</td>\n",
       "      <td>3011</td>\n",
       "      <td>91.9</td>\n",
       "      <td>100.0</td>\n",
       "      <td>100.0</td>\n",
       "      <td>100.0</td>\n",
       "      <td>100.0</td>\n",
       "      <td>99.1</td>\n",
       "      <td>100.0</td>\n",
       "      <td>3745</td>\n",
       "      <td>1681.0</td>\n",
       "      <td>1</td>\n",
       "      <td>0.0</td>\n",
       "    </tr>\n",
       "    <tr>\n",
       "      <th>1</th>\n",
       "      <td>Stanford University</td>\n",
       "      <td>United States</td>\n",
       "      <td>#2</td>\n",
       "      <td>Private</td>\n",
       "      <td>Very High</td>\n",
       "      <td>16260</td>\n",
       "      <td>4478</td>\n",
       "      <td>63.6</td>\n",
       "      <td>98.4</td>\n",
       "      <td>100.0</td>\n",
       "      <td>100.0</td>\n",
       "      <td>100.0</td>\n",
       "      <td>98.1</td>\n",
       "      <td>99.7</td>\n",
       "      <td>3665</td>\n",
       "      <td>2166.0</td>\n",
       "      <td>2</td>\n",
       "      <td>0.0</td>\n",
       "    </tr>\n",
       "    <tr>\n",
       "      <th>2</th>\n",
       "      <td>Harvard University</td>\n",
       "      <td>United States</td>\n",
       "      <td>#3</td>\n",
       "      <td>Private</td>\n",
       "      <td>Very High</td>\n",
       "      <td>23583</td>\n",
       "      <td>4556</td>\n",
       "      <td>69.9</td>\n",
       "      <td>97.9</td>\n",
       "      <td>100.0</td>\n",
       "      <td>100.0</td>\n",
       "      <td>98.6</td>\n",
       "      <td>99.1</td>\n",
       "      <td>85.2</td>\n",
       "      <td>5816</td>\n",
       "      <td>1466.0</td>\n",
       "      <td>3</td>\n",
       "      <td>0.0</td>\n",
       "    </tr>\n",
       "    <tr>\n",
       "      <th>3</th>\n",
       "      <td>California Institute of Technology (Caltech)</td>\n",
       "      <td>United States</td>\n",
       "      <td>#4</td>\n",
       "      <td>Private</td>\n",
       "      <td>Very High</td>\n",
       "      <td>2237</td>\n",
       "      <td>1059</td>\n",
       "      <td>88.2</td>\n",
       "      <td>97.0</td>\n",
       "      <td>97.0</td>\n",
       "      <td>82.8</td>\n",
       "      <td>100.0</td>\n",
       "      <td>99.9</td>\n",
       "      <td>100.0</td>\n",
       "      <td>692</td>\n",
       "      <td>563.0</td>\n",
       "      <td>4</td>\n",
       "      <td>0.0</td>\n",
       "    </tr>\n",
       "    <tr>\n",
       "      <th>4</th>\n",
       "      <td>University of Oxford</td>\n",
       "      <td>United Kingdom</td>\n",
       "      <td>#5</td>\n",
       "      <td>Public</td>\n",
       "      <td>Very High</td>\n",
       "      <td>20786</td>\n",
       "      <td>6650</td>\n",
       "      <td>98.3</td>\n",
       "      <td>96.7</td>\n",
       "      <td>100.0</td>\n",
       "      <td>100.0</td>\n",
       "      <td>100.0</td>\n",
       "      <td>81.3</td>\n",
       "      <td>99.4</td>\n",
       "      <td>8259</td>\n",
       "      <td>3137.0</td>\n",
       "      <td>5</td>\n",
       "      <td>1.0</td>\n",
       "    </tr>\n",
       "  </tbody>\n",
       "</table>\n",
       "</div>"
      ],
      "text/plain": [
       "                                           Name         Country  \\\n",
       "0   Massachusetts Institute of Technology (MIT)   United States   \n",
       "1                           Stanford University   United States   \n",
       "2                            Harvard University   United States   \n",
       "3  California Institute of Technology (Caltech)   United States   \n",
       "4                          University of Oxford  United Kingdom   \n",
       "\n",
       "  QS Global World Ranking   Status Research Output  Total Students  \\\n",
       "0                      #1  Private       Very High           11342   \n",
       "1                      #2  Private       Very High           16260   \n",
       "2                      #3  Private       Very High           23583   \n",
       "3                      #4  Private       Very High            2237   \n",
       "4                      #5   Public       Very High           20786   \n",
       "\n",
       "   Academic Faculty Staff  International Students  Overall Score  \\\n",
       "0                    3011                    91.9          100.0   \n",
       "1                    4478                    63.6           98.4   \n",
       "2                    4556                    69.9           97.9   \n",
       "3                    1059                    88.2           97.0   \n",
       "4                    6650                    98.3           96.7   \n",
       "\n",
       "   Academic Reputation  Employer Reputation  Faculty Student  \\\n",
       "0                100.0                100.0            100.0   \n",
       "1                100.0                100.0            100.0   \n",
       "2                100.0                100.0             98.6   \n",
       "3                 97.0                 82.8            100.0   \n",
       "4                100.0                100.0            100.0   \n",
       "\n",
       "   Citations per Faculty  International Faculty  \\\n",
       "0                   99.1                  100.0   \n",
       "1                   98.1                   99.7   \n",
       "2                   99.1                   85.2   \n",
       "3                   99.9                  100.0   \n",
       "4                   81.3                   99.4   \n",
       "\n",
       "   Number of International Students  Number of International Faculty  Rank  \\\n",
       "0                              3745                           1681.0     1   \n",
       "1                              3665                           2166.0     2   \n",
       "2                              5816                           1466.0     3   \n",
       "3                               692                            563.0     4   \n",
       "4                              8259                           3137.0     5   \n",
       "\n",
       "   Region  \n",
       "0     0.0  \n",
       "1     0.0  \n",
       "2     0.0  \n",
       "3     0.0  \n",
       "4     1.0  "
      ]
     },
     "execution_count": 4,
     "metadata": {},
     "output_type": "execute_result"
    }
   ],
   "source": [
    "# marking three types of regions\n",
    "da = da.dropna(subset = ['Country'])\n",
    "europe = ['United Kingdom', 'Austria','Belarus','Belgium', 'Czech Republic', 'Denmark', 'Finland' 'France', 'Germany','Greece', 'Israel', 'Ireland', 'Italy','Lithuania', 'Hungary' , 'Netherlands', 'Norway', 'Poland', 'Portugal' 'Russia', 'Slovenia', 'Spain', 'Sweden', 'Switzerland', 'Turkey']\n",
    "da.loc[da['Country'] == ('United States'), 'Region'] = 0\n",
    "da.loc[da['Country'].isin(europe), 'Region'] = 1\n",
    "da.loc[(da['Country']!= 'United States') & (~da['Country'].isin(europe)), 'Region'] = 2\n",
    "da.head()"
   ]
  },
  {
   "cell_type": "code",
   "execution_count": 5,
   "metadata": {},
   "outputs": [
    {
     "data": {
      "text/html": [
       "<div>\n",
       "<style scoped>\n",
       "    .dataframe tbody tr th:only-of-type {\n",
       "        vertical-align: middle;\n",
       "    }\n",
       "\n",
       "    .dataframe tbody tr th {\n",
       "        vertical-align: top;\n",
       "    }\n",
       "\n",
       "    .dataframe thead th {\n",
       "        text-align: right;\n",
       "    }\n",
       "</style>\n",
       "<table border=\"1\" class=\"dataframe\">\n",
       "  <thead>\n",
       "    <tr style=\"text-align: right;\">\n",
       "      <th></th>\n",
       "      <th>Name</th>\n",
       "      <th>Country</th>\n",
       "      <th>QS Global World Ranking</th>\n",
       "      <th>Status</th>\n",
       "      <th>Research Output</th>\n",
       "      <th>Total Students</th>\n",
       "      <th>Academic Faculty Staff</th>\n",
       "      <th>International Students</th>\n",
       "      <th>Overall Score</th>\n",
       "      <th>Academic Reputation</th>\n",
       "      <th>Employer Reputation</th>\n",
       "      <th>Faculty Student</th>\n",
       "      <th>Citations per Faculty</th>\n",
       "      <th>International Faculty</th>\n",
       "      <th>Number of International Students</th>\n",
       "      <th>Number of International Faculty</th>\n",
       "      <th>Rank</th>\n",
       "      <th>Region</th>\n",
       "    </tr>\n",
       "  </thead>\n",
       "  <tbody>\n",
       "    <tr>\n",
       "      <th>0</th>\n",
       "      <td>Massachusetts Institute of Technology (MIT)</td>\n",
       "      <td>United States</td>\n",
       "      <td>#1</td>\n",
       "      <td>0</td>\n",
       "      <td>3</td>\n",
       "      <td>11342</td>\n",
       "      <td>3011</td>\n",
       "      <td>91.9</td>\n",
       "      <td>100.0</td>\n",
       "      <td>100.0</td>\n",
       "      <td>100.0</td>\n",
       "      <td>100.0</td>\n",
       "      <td>99.1</td>\n",
       "      <td>100.0</td>\n",
       "      <td>3745</td>\n",
       "      <td>1681.0</td>\n",
       "      <td>1</td>\n",
       "      <td>0.0</td>\n",
       "    </tr>\n",
       "    <tr>\n",
       "      <th>1</th>\n",
       "      <td>Stanford University</td>\n",
       "      <td>United States</td>\n",
       "      <td>#2</td>\n",
       "      <td>0</td>\n",
       "      <td>3</td>\n",
       "      <td>16260</td>\n",
       "      <td>4478</td>\n",
       "      <td>63.6</td>\n",
       "      <td>98.4</td>\n",
       "      <td>100.0</td>\n",
       "      <td>100.0</td>\n",
       "      <td>100.0</td>\n",
       "      <td>98.1</td>\n",
       "      <td>99.7</td>\n",
       "      <td>3665</td>\n",
       "      <td>2166.0</td>\n",
       "      <td>2</td>\n",
       "      <td>0.0</td>\n",
       "    </tr>\n",
       "    <tr>\n",
       "      <th>2</th>\n",
       "      <td>Harvard University</td>\n",
       "      <td>United States</td>\n",
       "      <td>#3</td>\n",
       "      <td>0</td>\n",
       "      <td>3</td>\n",
       "      <td>23583</td>\n",
       "      <td>4556</td>\n",
       "      <td>69.9</td>\n",
       "      <td>97.9</td>\n",
       "      <td>100.0</td>\n",
       "      <td>100.0</td>\n",
       "      <td>98.6</td>\n",
       "      <td>99.1</td>\n",
       "      <td>85.2</td>\n",
       "      <td>5816</td>\n",
       "      <td>1466.0</td>\n",
       "      <td>3</td>\n",
       "      <td>0.0</td>\n",
       "    </tr>\n",
       "    <tr>\n",
       "      <th>3</th>\n",
       "      <td>California Institute of Technology (Caltech)</td>\n",
       "      <td>United States</td>\n",
       "      <td>#4</td>\n",
       "      <td>0</td>\n",
       "      <td>3</td>\n",
       "      <td>2237</td>\n",
       "      <td>1059</td>\n",
       "      <td>88.2</td>\n",
       "      <td>97.0</td>\n",
       "      <td>97.0</td>\n",
       "      <td>82.8</td>\n",
       "      <td>100.0</td>\n",
       "      <td>99.9</td>\n",
       "      <td>100.0</td>\n",
       "      <td>692</td>\n",
       "      <td>563.0</td>\n",
       "      <td>4</td>\n",
       "      <td>0.0</td>\n",
       "    </tr>\n",
       "    <tr>\n",
       "      <th>4</th>\n",
       "      <td>University of Oxford</td>\n",
       "      <td>United Kingdom</td>\n",
       "      <td>#5</td>\n",
       "      <td>1</td>\n",
       "      <td>3</td>\n",
       "      <td>20786</td>\n",
       "      <td>6650</td>\n",
       "      <td>98.3</td>\n",
       "      <td>96.7</td>\n",
       "      <td>100.0</td>\n",
       "      <td>100.0</td>\n",
       "      <td>100.0</td>\n",
       "      <td>81.3</td>\n",
       "      <td>99.4</td>\n",
       "      <td>8259</td>\n",
       "      <td>3137.0</td>\n",
       "      <td>5</td>\n",
       "      <td>1.0</td>\n",
       "    </tr>\n",
       "  </tbody>\n",
       "</table>\n",
       "</div>"
      ],
      "text/plain": [
       "                                           Name         Country  \\\n",
       "0   Massachusetts Institute of Technology (MIT)   United States   \n",
       "1                           Stanford University   United States   \n",
       "2                            Harvard University   United States   \n",
       "3  California Institute of Technology (Caltech)   United States   \n",
       "4                          University of Oxford  United Kingdom   \n",
       "\n",
       "  QS Global World Ranking Status Research Output  Total Students  \\\n",
       "0                      #1      0               3           11342   \n",
       "1                      #2      0               3           16260   \n",
       "2                      #3      0               3           23583   \n",
       "3                      #4      0               3            2237   \n",
       "4                      #5      1               3           20786   \n",
       "\n",
       "   Academic Faculty Staff  International Students  Overall Score  \\\n",
       "0                    3011                    91.9          100.0   \n",
       "1                    4478                    63.6           98.4   \n",
       "2                    4556                    69.9           97.9   \n",
       "3                    1059                    88.2           97.0   \n",
       "4                    6650                    98.3           96.7   \n",
       "\n",
       "   Academic Reputation  Employer Reputation  Faculty Student  \\\n",
       "0                100.0                100.0            100.0   \n",
       "1                100.0                100.0            100.0   \n",
       "2                100.0                100.0             98.6   \n",
       "3                 97.0                 82.8            100.0   \n",
       "4                100.0                100.0            100.0   \n",
       "\n",
       "   Citations per Faculty  International Faculty  \\\n",
       "0                   99.1                  100.0   \n",
       "1                   98.1                   99.7   \n",
       "2                   99.1                   85.2   \n",
       "3                   99.9                  100.0   \n",
       "4                   81.3                   99.4   \n",
       "\n",
       "   Number of International Students  Number of International Faculty  Rank  \\\n",
       "0                              3745                           1681.0     1   \n",
       "1                              3665                           2166.0     2   \n",
       "2                              5816                           1466.0     3   \n",
       "3                               692                            563.0     4   \n",
       "4                              8259                           3137.0     5   \n",
       "\n",
       "   Region  \n",
       "0     0.0  \n",
       "1     0.0  \n",
       "2     0.0  \n",
       "3     0.0  \n",
       "4     1.0  "
      ]
     },
     "execution_count": 5,
     "metadata": {},
     "output_type": "execute_result"
    }
   ],
   "source": [
    "# turning categorical variables into integers\n",
    "da.loc[da['Status'] == ('Private'), 'Status'] = 0\n",
    "da.loc[da['Status'] == ('Public'), 'Status'] = 1\n",
    "da.loc[da['Research Output'] == ('Low'), 'Research Output'] = 0\n",
    "da.loc[da['Research Output'] == ('Medium'), 'Research Output'] = 1\n",
    "da.loc[da['Research Output'] == ('High'), 'Research Output'] = 2\n",
    "da.loc[da['Research Output'] == ('Very High'), 'Research Output'] = 3\n",
    "da.head()"
   ]
  },
  {
   "cell_type": "code",
   "execution_count": 6,
   "metadata": {},
   "outputs": [
    {
     "data": {
      "text/html": [
       "<div>\n",
       "<style scoped>\n",
       "    .dataframe tbody tr th:only-of-type {\n",
       "        vertical-align: middle;\n",
       "    }\n",
       "\n",
       "    .dataframe tbody tr th {\n",
       "        vertical-align: top;\n",
       "    }\n",
       "\n",
       "    .dataframe thead th {\n",
       "        text-align: right;\n",
       "    }\n",
       "</style>\n",
       "<table border=\"1\" class=\"dataframe\">\n",
       "  <thead>\n",
       "    <tr style=\"text-align: right;\">\n",
       "      <th></th>\n",
       "      <th>Status</th>\n",
       "      <th>Research Output</th>\n",
       "      <th>Total Students</th>\n",
       "      <th>Academic Faculty Staff</th>\n",
       "      <th>International Students</th>\n",
       "      <th>Overall Score</th>\n",
       "      <th>Academic Reputation</th>\n",
       "      <th>Employer Reputation</th>\n",
       "      <th>Faculty Student</th>\n",
       "      <th>Citations per Faculty</th>\n",
       "      <th>International Faculty</th>\n",
       "      <th>Number of International Students</th>\n",
       "      <th>Number of International Faculty</th>\n",
       "      <th>Rank</th>\n",
       "      <th>Region</th>\n",
       "    </tr>\n",
       "  </thead>\n",
       "  <tbody>\n",
       "    <tr>\n",
       "      <th>0</th>\n",
       "      <td>0</td>\n",
       "      <td>3</td>\n",
       "      <td>11342</td>\n",
       "      <td>3011</td>\n",
       "      <td>91.9</td>\n",
       "      <td>100.0</td>\n",
       "      <td>100.0</td>\n",
       "      <td>100.0</td>\n",
       "      <td>100.0</td>\n",
       "      <td>99.1</td>\n",
       "      <td>100.0</td>\n",
       "      <td>3745</td>\n",
       "      <td>1681.0</td>\n",
       "      <td>1</td>\n",
       "      <td>0.0</td>\n",
       "    </tr>\n",
       "    <tr>\n",
       "      <th>1</th>\n",
       "      <td>0</td>\n",
       "      <td>3</td>\n",
       "      <td>16260</td>\n",
       "      <td>4478</td>\n",
       "      <td>63.6</td>\n",
       "      <td>98.4</td>\n",
       "      <td>100.0</td>\n",
       "      <td>100.0</td>\n",
       "      <td>100.0</td>\n",
       "      <td>98.1</td>\n",
       "      <td>99.7</td>\n",
       "      <td>3665</td>\n",
       "      <td>2166.0</td>\n",
       "      <td>2</td>\n",
       "      <td>0.0</td>\n",
       "    </tr>\n",
       "    <tr>\n",
       "      <th>2</th>\n",
       "      <td>0</td>\n",
       "      <td>3</td>\n",
       "      <td>23583</td>\n",
       "      <td>4556</td>\n",
       "      <td>69.9</td>\n",
       "      <td>97.9</td>\n",
       "      <td>100.0</td>\n",
       "      <td>100.0</td>\n",
       "      <td>98.6</td>\n",
       "      <td>99.1</td>\n",
       "      <td>85.2</td>\n",
       "      <td>5816</td>\n",
       "      <td>1466.0</td>\n",
       "      <td>3</td>\n",
       "      <td>0.0</td>\n",
       "    </tr>\n",
       "    <tr>\n",
       "      <th>3</th>\n",
       "      <td>0</td>\n",
       "      <td>3</td>\n",
       "      <td>2237</td>\n",
       "      <td>1059</td>\n",
       "      <td>88.2</td>\n",
       "      <td>97.0</td>\n",
       "      <td>97.0</td>\n",
       "      <td>82.8</td>\n",
       "      <td>100.0</td>\n",
       "      <td>99.9</td>\n",
       "      <td>100.0</td>\n",
       "      <td>692</td>\n",
       "      <td>563.0</td>\n",
       "      <td>4</td>\n",
       "      <td>0.0</td>\n",
       "    </tr>\n",
       "    <tr>\n",
       "      <th>4</th>\n",
       "      <td>1</td>\n",
       "      <td>3</td>\n",
       "      <td>20786</td>\n",
       "      <td>6650</td>\n",
       "      <td>98.3</td>\n",
       "      <td>96.7</td>\n",
       "      <td>100.0</td>\n",
       "      <td>100.0</td>\n",
       "      <td>100.0</td>\n",
       "      <td>81.3</td>\n",
       "      <td>99.4</td>\n",
       "      <td>8259</td>\n",
       "      <td>3137.0</td>\n",
       "      <td>5</td>\n",
       "      <td>1.0</td>\n",
       "    </tr>\n",
       "  </tbody>\n",
       "</table>\n",
       "</div>"
      ],
      "text/plain": [
       "  Status Research Output  Total Students  Academic Faculty Staff  \\\n",
       "0      0               3           11342                    3011   \n",
       "1      0               3           16260                    4478   \n",
       "2      0               3           23583                    4556   \n",
       "3      0               3            2237                    1059   \n",
       "4      1               3           20786                    6650   \n",
       "\n",
       "   International Students  Overall Score  Academic Reputation  \\\n",
       "0                    91.9          100.0                100.0   \n",
       "1                    63.6           98.4                100.0   \n",
       "2                    69.9           97.9                100.0   \n",
       "3                    88.2           97.0                 97.0   \n",
       "4                    98.3           96.7                100.0   \n",
       "\n",
       "   Employer Reputation  Faculty Student  Citations per Faculty  \\\n",
       "0                100.0            100.0                   99.1   \n",
       "1                100.0            100.0                   98.1   \n",
       "2                100.0             98.6                   99.1   \n",
       "3                 82.8            100.0                   99.9   \n",
       "4                100.0            100.0                   81.3   \n",
       "\n",
       "   International Faculty  Number of International Students  \\\n",
       "0                  100.0                              3745   \n",
       "1                   99.7                              3665   \n",
       "2                   85.2                              5816   \n",
       "3                  100.0                               692   \n",
       "4                   99.4                              8259   \n",
       "\n",
       "   Number of International Faculty  Rank  Region  \n",
       "0                           1681.0     1     0.0  \n",
       "1                           2166.0     2     0.0  \n",
       "2                           1466.0     3     0.0  \n",
       "3                            563.0     4     0.0  \n",
       "4                           3137.0     5     1.0  "
      ]
     },
     "execution_count": 6,
     "metadata": {},
     "output_type": "execute_result"
    }
   ],
   "source": [
    "# dropping unnecessary features\n",
    "da = da.drop(columns = ['Country','Name','QS Global World Ranking'], errors = 'ignore')\n",
    "# dropping samples with a 'NaN' feature \n",
    "da = da.dropna()\n",
    "da.head()"
   ]
  },
  {
   "cell_type": "code",
   "execution_count": 7,
   "metadata": {},
   "outputs": [
    {
     "data": {
      "text/html": [
       "<div>\n",
       "<style scoped>\n",
       "    .dataframe tbody tr th:only-of-type {\n",
       "        vertical-align: middle;\n",
       "    }\n",
       "\n",
       "    .dataframe tbody tr th {\n",
       "        vertical-align: top;\n",
       "    }\n",
       "\n",
       "    .dataframe thead th {\n",
       "        text-align: right;\n",
       "    }\n",
       "</style>\n",
       "<table border=\"1\" class=\"dataframe\">\n",
       "  <thead>\n",
       "    <tr style=\"text-align: right;\">\n",
       "      <th></th>\n",
       "      <th>Status</th>\n",
       "      <th>Research Output</th>\n",
       "      <th>Total Students</th>\n",
       "      <th>Academic Faculty Staff</th>\n",
       "      <th>International Students</th>\n",
       "      <th>Overall Score</th>\n",
       "      <th>Academic Reputation</th>\n",
       "      <th>Employer Reputation</th>\n",
       "      <th>Faculty Student</th>\n",
       "      <th>Citations per Faculty</th>\n",
       "      <th>International Faculty</th>\n",
       "      <th>Number of International Students</th>\n",
       "      <th>Number of International Faculty</th>\n",
       "      <th>Rank</th>\n",
       "      <th>Region</th>\n",
       "    </tr>\n",
       "  </thead>\n",
       "  <tbody>\n",
       "    <tr>\n",
       "      <th>0</th>\n",
       "      <td>0</td>\n",
       "      <td>3</td>\n",
       "      <td>-0.895687</td>\n",
       "      <td>0.204519</td>\n",
       "      <td>1.204762</td>\n",
       "      <td>2.364348</td>\n",
       "      <td>1.720728</td>\n",
       "      <td>1.703631</td>\n",
       "      <td>1.397791</td>\n",
       "      <td>1.986089</td>\n",
       "      <td>1.120946</td>\n",
       "      <td>-0.289917</td>\n",
       "      <td>1.405374</td>\n",
       "      <td>0.000000</td>\n",
       "      <td>0.0</td>\n",
       "    </tr>\n",
       "    <tr>\n",
       "      <th>1</th>\n",
       "      <td>0</td>\n",
       "      <td>3</td>\n",
       "      <td>-0.534759</td>\n",
       "      <td>1.093894</td>\n",
       "      <td>0.337916</td>\n",
       "      <td>2.285894</td>\n",
       "      <td>1.720728</td>\n",
       "      <td>1.703631</td>\n",
       "      <td>1.397791</td>\n",
       "      <td>1.946730</td>\n",
       "      <td>1.112397</td>\n",
       "      <td>-0.309138</td>\n",
       "      <td>2.113493</td>\n",
       "      <td>0.002551</td>\n",
       "      <td>0.0</td>\n",
       "    </tr>\n",
       "    <tr>\n",
       "      <th>2</th>\n",
       "      <td>0</td>\n",
       "      <td>3</td>\n",
       "      <td>0.002670</td>\n",
       "      <td>1.141182</td>\n",
       "      <td>0.530889</td>\n",
       "      <td>2.261378</td>\n",
       "      <td>1.720728</td>\n",
       "      <td>1.703631</td>\n",
       "      <td>1.353659</td>\n",
       "      <td>1.986089</td>\n",
       "      <td>0.699215</td>\n",
       "      <td>0.207666</td>\n",
       "      <td>1.091466</td>\n",
       "      <td>0.005102</td>\n",
       "      <td>0.0</td>\n",
       "    </tr>\n",
       "    <tr>\n",
       "      <th>3</th>\n",
       "      <td>0</td>\n",
       "      <td>3</td>\n",
       "      <td>-1.563895</td>\n",
       "      <td>-0.978890</td>\n",
       "      <td>1.091429</td>\n",
       "      <td>2.217247</td>\n",
       "      <td>1.616891</td>\n",
       "      <td>1.135322</td>\n",
       "      <td>1.397791</td>\n",
       "      <td>2.017575</td>\n",
       "      <td>1.120946</td>\n",
       "      <td>-1.023437</td>\n",
       "      <td>-0.226950</td>\n",
       "      <td>0.007653</td>\n",
       "      <td>0.0</td>\n",
       "    </tr>\n",
       "    <tr>\n",
       "      <th>4</th>\n",
       "      <td>1</td>\n",
       "      <td>3</td>\n",
       "      <td>-0.202599</td>\n",
       "      <td>2.410678</td>\n",
       "      <td>1.400798</td>\n",
       "      <td>2.202537</td>\n",
       "      <td>1.720728</td>\n",
       "      <td>1.703631</td>\n",
       "      <td>1.397791</td>\n",
       "      <td>1.285509</td>\n",
       "      <td>1.103848</td>\n",
       "      <td>0.794627</td>\n",
       "      <td>3.531191</td>\n",
       "      <td>0.010204</td>\n",
       "      <td>1.0</td>\n",
       "    </tr>\n",
       "    <tr>\n",
       "      <th>...</th>\n",
       "      <td>...</td>\n",
       "      <td>...</td>\n",
       "      <td>...</td>\n",
       "      <td>...</td>\n",
       "      <td>...</td>\n",
       "      <td>...</td>\n",
       "      <td>...</td>\n",
       "      <td>...</td>\n",
       "      <td>...</td>\n",
       "      <td>...</td>\n",
       "      <td>...</td>\n",
       "      <td>...</td>\n",
       "      <td>...</td>\n",
       "      <td>...</td>\n",
       "      <td>...</td>\n",
       "    </tr>\n",
       "    <tr>\n",
       "      <th>388</th>\n",
       "      <td>1</td>\n",
       "      <td>3</td>\n",
       "      <td>1.671980</td>\n",
       "      <td>2.753818</td>\n",
       "      <td>-0.345147</td>\n",
       "      <td>1.609233</td>\n",
       "      <td>1.682654</td>\n",
       "      <td>1.462430</td>\n",
       "      <td>1.063648</td>\n",
       "      <td>0.368458</td>\n",
       "      <td>0.402864</td>\n",
       "      <td>0.757627</td>\n",
       "      <td>1.875507</td>\n",
       "      <td>0.989796</td>\n",
       "      <td>0.0</td>\n",
       "    </tr>\n",
       "    <tr>\n",
       "      <th>389</th>\n",
       "      <td>1</td>\n",
       "      <td>3</td>\n",
       "      <td>-0.251990</td>\n",
       "      <td>0.153593</td>\n",
       "      <td>1.419177</td>\n",
       "      <td>1.565102</td>\n",
       "      <td>1.654965</td>\n",
       "      <td>0.920555</td>\n",
       "      <td>0.887119</td>\n",
       "      <td>-0.025126</td>\n",
       "      <td>1.120946</td>\n",
       "      <td>0.804718</td>\n",
       "      <td>1.907628</td>\n",
       "      <td>0.992347</td>\n",
       "      <td>2.0</td>\n",
       "    </tr>\n",
       "    <tr>\n",
       "      <th>390</th>\n",
       "      <td>1</td>\n",
       "      <td>3</td>\n",
       "      <td>1.123396</td>\n",
       "      <td>1.563135</td>\n",
       "      <td>-0.559561</td>\n",
       "      <td>1.555296</td>\n",
       "      <td>1.693038</td>\n",
       "      <td>1.673894</td>\n",
       "      <td>0.653849</td>\n",
       "      <td>0.640031</td>\n",
       "      <td>0.257537</td>\n",
       "      <td>0.280706</td>\n",
       "      <td>0.941082</td>\n",
       "      <td>0.994898</td>\n",
       "      <td>2.0</td>\n",
       "    </tr>\n",
       "    <tr>\n",
       "      <th>391</th>\n",
       "      <td>1</td>\n",
       "      <td>3</td>\n",
       "      <td>0.294465</td>\n",
       "      <td>1.094500</td>\n",
       "      <td>-0.810733</td>\n",
       "      <td>1.540586</td>\n",
       "      <td>1.720728</td>\n",
       "      <td>1.690414</td>\n",
       "      <td>1.155064</td>\n",
       "      <td>0.545571</td>\n",
       "      <td>-1.423686</td>\n",
       "      <td>-0.294722</td>\n",
       "      <td>-0.618240</td>\n",
       "      <td>0.997449</td>\n",
       "      <td>2.0</td>\n",
       "    </tr>\n",
       "    <tr>\n",
       "      <th>392</th>\n",
       "      <td>0</td>\n",
       "      <td>3</td>\n",
       "      <td>-0.617689</td>\n",
       "      <td>1.269708</td>\n",
       "      <td>1.076114</td>\n",
       "      <td>1.516069</td>\n",
       "      <td>1.260383</td>\n",
       "      <td>-0.047552</td>\n",
       "      <td>1.397791</td>\n",
       "      <td>1.072973</td>\n",
       "      <td>0.160653</td>\n",
       "      <td>-0.028752</td>\n",
       "      <td>0.681195</td>\n",
       "      <td>1.000000</td>\n",
       "      <td>0.0</td>\n",
       "    </tr>\n",
       "  </tbody>\n",
       "</table>\n",
       "<p>388 rows × 15 columns</p>\n",
       "</div>"
      ],
      "text/plain": [
       "    Status Research Output  Total Students  Academic Faculty Staff  \\\n",
       "0        0               3       -0.895687                0.204519   \n",
       "1        0               3       -0.534759                1.093894   \n",
       "2        0               3        0.002670                1.141182   \n",
       "3        0               3       -1.563895               -0.978890   \n",
       "4        1               3       -0.202599                2.410678   \n",
       "..     ...             ...             ...                     ...   \n",
       "388      1               3        1.671980                2.753818   \n",
       "389      1               3       -0.251990                0.153593   \n",
       "390      1               3        1.123396                1.563135   \n",
       "391      1               3        0.294465                1.094500   \n",
       "392      0               3       -0.617689                1.269708   \n",
       "\n",
       "     International Students  Overall Score  Academic Reputation  \\\n",
       "0                  1.204762       2.364348             1.720728   \n",
       "1                  0.337916       2.285894             1.720728   \n",
       "2                  0.530889       2.261378             1.720728   \n",
       "3                  1.091429       2.217247             1.616891   \n",
       "4                  1.400798       2.202537             1.720728   \n",
       "..                      ...            ...                  ...   \n",
       "388               -0.345147       1.609233             1.682654   \n",
       "389                1.419177       1.565102             1.654965   \n",
       "390               -0.559561       1.555296             1.693038   \n",
       "391               -0.810733       1.540586             1.720728   \n",
       "392                1.076114       1.516069             1.260383   \n",
       "\n",
       "     Employer Reputation  Faculty Student  Citations per Faculty  \\\n",
       "0               1.703631         1.397791               1.986089   \n",
       "1               1.703631         1.397791               1.946730   \n",
       "2               1.703631         1.353659               1.986089   \n",
       "3               1.135322         1.397791               2.017575   \n",
       "4               1.703631         1.397791               1.285509   \n",
       "..                   ...              ...                    ...   \n",
       "388             1.462430         1.063648               0.368458   \n",
       "389             0.920555         0.887119              -0.025126   \n",
       "390             1.673894         0.653849               0.640031   \n",
       "391             1.690414         1.155064               0.545571   \n",
       "392            -0.047552         1.397791               1.072973   \n",
       "\n",
       "     International Faculty  Number of International Students  \\\n",
       "0                 1.120946                         -0.289917   \n",
       "1                 1.112397                         -0.309138   \n",
       "2                 0.699215                          0.207666   \n",
       "3                 1.120946                         -1.023437   \n",
       "4                 1.103848                          0.794627   \n",
       "..                     ...                               ...   \n",
       "388               0.402864                          0.757627   \n",
       "389               1.120946                          0.804718   \n",
       "390               0.257537                          0.280706   \n",
       "391              -1.423686                         -0.294722   \n",
       "392               0.160653                         -0.028752   \n",
       "\n",
       "     Number of International Faculty      Rank  Region  \n",
       "0                           1.405374  0.000000     0.0  \n",
       "1                           2.113493  0.002551     0.0  \n",
       "2                           1.091466  0.005102     0.0  \n",
       "3                          -0.226950  0.007653     0.0  \n",
       "4                           3.531191  0.010204     1.0  \n",
       "..                               ...       ...     ...  \n",
       "388                         1.875507  0.989796     0.0  \n",
       "389                         1.907628  0.992347     2.0  \n",
       "390                         0.941082  0.994898     2.0  \n",
       "391                        -0.618240  0.997449     2.0  \n",
       "392                         0.681195  1.000000     0.0  \n",
       "\n",
       "[388 rows x 15 columns]"
      ]
     },
     "execution_count": 7,
     "metadata": {},
     "output_type": "execute_result"
    }
   ],
   "source": [
    "# standardizing feature values\n",
    "da.iloc[:,2:13] = (da.iloc[:,2:13] - da.iloc[:,2:13].mean()) / da.iloc[:,2:13].std()\n",
    "# normalizing feature 'rank'\n",
    "da.iloc[:,-2] = (da.iloc[:,-2] - da.iloc[:,-2].min()) / (da.iloc[:,-2].max() - da.iloc[:,-2].min())\n",
    "da"
   ]
  },
  {
   "cell_type": "markdown",
   "metadata": {},
   "source": [
    "## Dataset Division intro Train, Valid and Test"
   ]
  },
  {
   "cell_type": "code",
   "execution_count": 8,
   "metadata": {},
   "outputs": [
    {
     "name": "stdout",
     "output_type": "stream",
     "text": [
      "Train set shape: (272, 15)\n",
      "Valid set shape: (58, 15)\n",
      "Test set shape: (58, 15)\n"
     ]
    }
   ],
   "source": [
    "da_copy = da.copy()\n",
    "train_set = da_copy.sample(frac=0.70, random_state=0)  # train 70%\n",
    "print(\"Train set shape:\", train_set.shape)\n",
    "da_copy = da_copy.drop(train_set.index)\n",
    "valid_set = da_copy.sample(frac=0.50, random_state=0)  # valid 15%\n",
    "print(\"Valid set shape:\", valid_set.shape)\n",
    "test_set = da_copy.drop(valid_set.index)               # test 15%\n",
    "print(\"Test set shape:\", test_set.shape)"
   ]
  },
  {
   "cell_type": "code",
   "execution_count": 9,
   "metadata": {},
   "outputs": [],
   "source": [
    "# getting labels from the data samples\n",
    "train_set_labels = train_set.pop('Region')\n",
    "valid_set_labels = valid_set.pop('Region')\n",
    "test_set_labels = test_set.pop('Region')"
   ]
  },
  {
   "cell_type": "code",
   "execution_count": 10,
   "metadata": {},
   "outputs": [],
   "source": [
    "# wrapping data into tensors\n",
    "train_x_tensor = Variable(torch.Tensor(list(train_set.values)))\n",
    "train_y_tensor = Variable(torch.Tensor(list(train_set_labels.values)))\n",
    "\n",
    "valid_x_tensor = Variable(torch.Tensor(list(valid_set.values)))\n",
    "valid_y_tensor = Variable(torch.Tensor(list(valid_set_labels.values)))\n",
    "\n",
    "test_x_tensor = Variable(torch.Tensor(list(test_set.values)))\n",
    "test_y_tensor = Variable(torch.Tensor(list(test_set_labels.values)))\n",
    "\n",
    "train_y_tensor = train_y_tensor.view(len(train_x_tensor), -1)\n",
    "valid_y_tensor = valid_y_tensor.view(len(valid_x_tensor), -1)\n",
    "test_y_tensor = test_y_tensor.view(len(test_x_tensor), -1)"
   ]
  },
  {
   "cell_type": "code",
   "execution_count": 11,
   "metadata": {},
   "outputs": [],
   "source": [
    "class Data(Dataset):\n",
    "    def __init__(self, data, label):\n",
    "        self.x = data\n",
    "        self.y = label\n",
    "        self.len = self.x.shape[0]\n",
    "\n",
    "    def __getitem__(self, index):          \n",
    "        return self.x[index], self.y[index]\n",
    "    \n",
    "    def __len__(self):\n",
    "        return self.len"
   ]
  },
  {
   "cell_type": "code",
   "execution_count": 12,
   "metadata": {},
   "outputs": [],
   "source": [
    "# making tensor datasets a torch Dataset\n",
    "train_data = Data(train_x_tensor, train_y_tensor)\n",
    "valid_data = Data(valid_x_tensor, valid_y_tensor)\n",
    "test_data = Data(test_x_tensor, test_y_tensor)"
   ]
  },
  {
   "cell_type": "markdown",
   "metadata": {},
   "source": [
    "# Model 1: Classification by Softmax Regression "
   ]
  },
  {
   "cell_type": "markdown",
   "metadata": {},
   "source": [
    "A Custom Module for Linear Regression was built:"
   ]
  },
  {
   "cell_type": "code",
   "execution_count": 13,
   "metadata": {},
   "outputs": [],
   "source": [
    "class LinearReg(nn.Module):\n",
    "    def __init__(self, input_size, output_size):\n",
    "        super(LinearReg, self).__init__()\n",
    "        self.linear = nn.Linear(input_size, output_size)\n",
    "    \n",
    "    def forward(self, x):\n",
    "        yhat = self.linear(x)\n",
    "        return yhat"
   ]
  },
  {
   "cell_type": "code",
   "execution_count": 14,
   "metadata": {},
   "outputs": [],
   "source": [
    "def train_linear_with_lr(input_size, output_size, total_epochs, lr_list):\n",
    "    models = []\n",
    "    train_loss = [[] for i in range(len(lr_list))]\n",
    "    valid_loss = [[] for i in range(len(lr_list))]\n",
    "    # iterate through different learning rates\n",
    "    for i, lr in enumerate(lr_list):\n",
    "        # creating a model\n",
    "        model = nn.Sequential(LinearReg(input_size, output_size))\n",
    "        optimizer = optim.SGD(model.parameters(), lr=lr)\n",
    "        \n",
    "        for epoch in range(total_epochs):\n",
    "            \n",
    "            epoch_training_loss = 0\n",
    "            epoch_validation_loss = 0\n",
    "            \n",
    "            # train\n",
    "            for x, y in trainloader:\n",
    "                optimizer.zero_grad()\n",
    "                yhat = model(x.float())\n",
    "                loss = criterion(yhat, y.view(len(yhat[:,0])).type(torch.LongTensor))\n",
    "                loss.backward()\n",
    "                optimizer.step()\n",
    "                epoch_training_loss += loss.data\n",
    "            \n",
    "            # validation\n",
    "            for x, y in validationloader:\n",
    "                yhat = model(x.float())\n",
    "                loss = criterion(yhat, y.view(len(yhat[:,0])).type(torch.LongTensor))\n",
    "                epoch_validation_loss += loss.data\n",
    "            \n",
    "            # average loss value after 1 epoch\n",
    "            train_loss[i].append(epoch_training_loss/len(trainloader))\n",
    "            valid_loss[i].append(epoch_validation_loss/len(validationloader))\n",
    "    \n",
    "        models.append(model)\n",
    "    return models, train_loss, valid_loss"
   ]
  },
  {
   "cell_type": "code",
   "execution_count": 15,
   "metadata": {},
   "outputs": [],
   "source": [
    "torch.manual_seed(0)  # to get same random values\n",
    "criterion = nn.CrossEntropyLoss()\n",
    "trainloader = DataLoader(dataset = train_data, batch_size = 4)\n",
    "validationloader = DataLoader(dataset = valid_data, batch_size = 2)\n",
    "\n",
    "input_size, output_size = 14, 3\n",
    "total_epochs = 200\n",
    "learning_rates = [1e-5, 1e-4, 1e-3, 1e-2, 1e-1, 1]\n",
    "\n",
    "linear_models_lr, train_loss, valid_loss = train_linear_with_lr(input_size, output_size, total_epochs, learning_rates)"
   ]
  },
  {
   "cell_type": "markdown",
   "metadata": {},
   "source": [
    "### When tuning the hyperparameters similar procedure was followed:\n",
    "1. Plot the train and validation losses on the list of different hyperparameters.\n",
    "2. Choose the one with least losses.\n",
    "3. Verify its convergence\n",
    "4. Use this hyperparameter to choose the next one.\n",
    "\n",
    "Therefore some of the similar steps were omitted.\n",
    "P.s: Tuning took much longer than shown in this notebook, even the values in the lists of potential hyperparameters were tuned)"
   ]
  },
  {
   "cell_type": "code",
   "execution_count": 16,
   "metadata": {},
   "outputs": [
    {
     "data": {
      "image/png": "[encoded data removed]",
      "text/plain": [
       "<Figure size 432x288 with 1 Axes>"
      ]
     },
     "metadata": {
      "needs_background": "light"
     },
     "output_type": "display_data"
    }
   ],
   "source": [
    "# Plot of the train losses for each learning rate\n",
    "for i in range(len(learning_rates)):\n",
    "    plt.plot(train_loss[i], label = 'lr:' + str(learning_rates[i]))\n",
    "    plt.legend()\n",
    "    plt.show"
   ]
  },
  {
   "cell_type": "code",
   "execution_count": 17,
   "metadata": {},
   "outputs": [
    {
     "data": {
      "image/png": "[encoded data removed]",
      "text/plain": [
       "<Figure size 432x288 with 1 Axes>"
      ]
     },
     "metadata": {
      "needs_background": "light"
     },
     "output_type": "display_data"
    }
   ],
   "source": [
    "for i in range(len(learning_rates)):\n",
    "    plt.plot(valid_loss[i], label = 'lr:' + str(learning_rates[i]))\n",
    "    plt.legend()\n",
    "    plt.show"
   ]
  },
  {
   "cell_type": "markdown",
   "metadata": {},
   "source": [
    "According to the above graphs, __learning rate was chosen as 0.01__. Now, let's verify its convergence:"
   ]
  },
  {
   "cell_type": "code",
   "execution_count": 18,
   "metadata": {},
   "outputs": [
    {
     "data": {
      "image/png": "[encoded data removed]",
      "text/plain": [
       "<Figure size 432x288 with 1 Axes>"
      ]
     },
     "metadata": {
      "needs_background": "light"
     },
     "output_type": "display_data"
    }
   ],
   "source": [
    "i=3\n",
    "plt.title('lr=' + str(learning_rates[i]))\n",
    "plt.plot(train_loss[i], label = 'train')\n",
    "plt.show\n",
    "plt.plot(valid_loss[i], label = 'valid')\n",
    "plt.legend()\n",
    "plt.xlabel('Epochs')\n",
    "plt.ylabel('Loss')\n",
    "plt.show()"
   ]
  },
  {
   "cell_type": "code",
   "execution_count": 19,
   "metadata": {},
   "outputs": [
    {
     "name": "stdout",
     "output_type": "stream",
     "text": [
      "test accuracy: 0.29310344827586204 , lr = 1e-05\n",
      "test accuracy: 0.5517241379310345 , lr = 0.0001\n",
      "test accuracy: 0.5517241379310345 , lr = 0.001\n",
      "test accuracy: 0.603448275862069 , lr = 0.01\n",
      "test accuracy: 0.5517241379310345 , lr = 0.1\n",
      "test accuracy: 0.46551724137931033 , lr = 1\n"
     ]
    }
   ],
   "source": [
    "def test_linear(models):\n",
    "    accuracies = []\n",
    "    \n",
    "    for i in range(len(models)):\n",
    "        correct = 0\n",
    "        for x, y in testloader:\n",
    "            z = models[i](x.float())\n",
    "            _, yhat = torch.max(z.data, 1)\n",
    "            for j in range(len(yhat)):\n",
    "                if yhat[j] == y[j]:\n",
    "                    correct += 1\n",
    "        \n",
    "        accuracy = correct/len(testloader)\n",
    "        accuracies.append(accuracy)\n",
    "    \n",
    "    return accuracies\n",
    "\n",
    "testloader = DataLoader(dataset=test_data, batch_size = 1)\n",
    "accuracies = test_linear(linear_models_lr)\n",
    "\n",
    "for i in range(len(learning_rates)):\n",
    "    print(\"test accuracy:\", accuracies[i], \",\", \"lr =\", learning_rates[i])"
   ]
  },
  {
   "cell_type": "code",
   "execution_count": 20,
   "metadata": {},
   "outputs": [],
   "source": [
    "def train_linear_with_bs(input_size, output_size, total_epochs, bs_list, lr):\n",
    "    models = []\n",
    "    train_loss = [[] for i in range(len(bs_list))]\n",
    "    valid_loss = [[] for i in range(len(bs_list))]\n",
    "    # iterate through different learning rates\n",
    "    for i, bs in enumerate(bs_list):\n",
    "        trainloader = DataLoader(dataset = train_data, batch_size = bs)\n",
    "        \n",
    "        # creating a model\n",
    "        model = nn.Sequential(LinearReg(input_size, output_size))\n",
    "        optimizer = optim.SGD(model.parameters(), lr=lr)\n",
    "        \n",
    "        for epoch in range(total_epochs):\n",
    "            epoch_training_loss = 0\n",
    "            epoch_validation_loss = 0\n",
    "            \n",
    "            # train\n",
    "            for x, y in trainloader:\n",
    "                optimizer.zero_grad()\n",
    "                yhat = model(x.float())\n",
    "                loss = criterion(yhat, y.view(len(yhat[:,0])).type(torch.LongTensor))\n",
    "                loss.backward()\n",
    "                optimizer.step()\n",
    "                epoch_training_loss += loss.data\n",
    "            \n",
    "            # validation\n",
    "            correct = 0\n",
    "            for x, y in validationloader:\n",
    "                yhat = model(x.float())\n",
    "                loss = criterion(yhat, y.view(len(yhat[:,0])).type(torch.LongTensor))\n",
    "                epoch_validation_loss += loss.data\n",
    "            \n",
    "            # average loss value after 1 epoch\n",
    "            train_loss[i].append(epoch_training_loss/len(trainloader))\n",
    "            valid_loss[i].append(epoch_validation_loss/len(validationloader))\n",
    "    \n",
    "        models.append(model)\n",
    "    return models, train_loss, valid_loss"
   ]
  },
  {
   "cell_type": "code",
   "execution_count": 22,
   "metadata": {},
   "outputs": [],
   "source": [
    "# here we choose batch size\n",
    "torch.manual_seed(0)  # to get same random values\n",
    "criterion = nn.CrossEntropyLoss()\n",
    "validationloader = DataLoader(dataset = valid_data, batch_size = 1)\n",
    "\n",
    "input_size, output_size = 14, 3\n",
    "total_epochs = 200\n",
    "batch_sizes = [1, 2, 4, 8, 16]\n",
    "lr = 0.01 # chosen from previous results\n",
    "linear_models_bs, train_loss, valid_loss = train_linear_with_bs(input_size, output_size, total_epochs, batch_sizes, lr)"
   ]
  },
  {
   "cell_type": "code",
   "execution_count": 23,
   "metadata": {},
   "outputs": [
    {
     "data": {
      "image/png": "[encoded data removed]",
      "text/plain": [
       "<Figure size 432x288 with 1 Axes>"
      ]
     },
     "metadata": {
      "needs_background": "light"
     },
     "output_type": "display_data"
    }
   ],
   "source": [
    "for i in range(len(batch_sizes)):\n",
    "    plt.plot(train_loss[i], label = 'lr:' + str(batch_sizes[i]))\n",
    "    plt.legend()\n",
    "    plt.show"
   ]
  },
  {
   "cell_type": "code",
   "execution_count": 24,
   "metadata": {
    "scrolled": true
   },
   "outputs": [
    {
     "data": {
      "image/png": "[encoded data removed]",
      "text/plain": [
       "<Figure size 432x288 with 1 Axes>"
      ]
     },
     "metadata": {
      "needs_background": "light"
     },
     "output_type": "display_data"
    }
   ],
   "source": [
    "for i in range(len(batch_sizes)):\n",
    "    plt.plot(valid_loss[i], label = 'bs:' + str(batch_sizes[i]))\n",
    "    plt.legend()\n",
    "    plt.show"
   ]
  },
  {
   "cell_type": "markdown",
   "metadata": {},
   "source": [
    "Choose __Batch_Size = 8__, Verify its convergence:"
   ]
  },
  {
   "cell_type": "code",
   "execution_count": 25,
   "metadata": {
    "scrolled": true
   },
   "outputs": [
    {
     "data": {
      "image/png": "[encoded data removed]",
      "text/plain": [
       "<Figure size 432x288 with 1 Axes>"
      ]
     },
     "metadata": {
      "needs_background": "light"
     },
     "output_type": "display_data"
    }
   ],
   "source": [
    "# Plot of the losses for each batch size\n",
    "i=3\n",
    "plt.title('batch size =' + str(batch_sizes[i]))\n",
    "plt.plot(train_loss[i], label = 'train')\n",
    "plt.show\n",
    "plt.plot(valid_loss[i], label = 'valid')\n",
    "plt.legend()\n",
    "plt.xlabel('Epochs')\n",
    "plt.ylabel('Loss')\n",
    "plt.show()"
   ]
  },
  {
   "cell_type": "markdown",
   "metadata": {},
   "source": [
    "### Evaluation of the model (softmax regression with lr = 0.01, batch_size=8):"
   ]
  },
  {
   "cell_type": "code",
   "execution_count": 45,
   "metadata": {},
   "outputs": [
    {
     "data": {
      "text/plain": [
       "0.603448275862069"
      ]
     },
     "execution_count": 45,
     "metadata": {},
     "output_type": "execute_result"
    }
   ],
   "source": [
    "acc=[]\n",
    "correct = 0\n",
    "i=3\n",
    "for x, y in testloader:\n",
    "    z = linear_models_bs[i](x.float())\n",
    "    _, yhat = torch.max(z.data, 1)\n",
    "    for j in range(len(yhat)):\n",
    "        if yhat[j] == y[j]:\n",
    "            correct += 1\n",
    "\n",
    "accuracy = correct/len(testloader)\n",
    "acc.append(accuracy)\n",
    "accuracy\n"
   ]
  },
  {
   "cell_type": "markdown",
   "metadata": {},
   "source": [
    "## Model 2: Classification by Shallow NN \n",
    "### Hidden Layer Size = 5"
   ]
  },
  {
   "cell_type": "markdown",
   "metadata": {},
   "source": [
    "Similarly, a custom Module for Shallow NN was built:"
   ]
  },
  {
   "cell_type": "code",
   "execution_count": 27,
   "metadata": {},
   "outputs": [],
   "source": [
    "class Net(nn.Module):\n",
    "    def __init__(self,D_in,H,D_out):\n",
    "        super(Net,self).__init__()\n",
    "        self.linear1=nn.Linear(D_in,H)\n",
    "        self.linear2=nn.Linear(H,D_out)\n",
    "\n",
    "        \n",
    "    def forward(self,x):\n",
    "        x=torch.sigmoid(self.linear1(x))  \n",
    "        x=torch.sigmoid(self.linear2(x))\n",
    "        return x"
   ]
  },
  {
   "cell_type": "code",
   "execution_count": 28,
   "metadata": {},
   "outputs": [],
   "source": [
    "criterion = nn.CrossEntropyLoss()\n",
    "trainloader = DataLoader(dataset = train_data, batch_size = 1)\n",
    "\n",
    "\n",
    "learning_rates = [1e-5, 1e-4, 1e-3, 1e-2, 1e-1, 1]"
   ]
  },
  {
   "cell_type": "code",
   "execution_count": 29,
   "metadata": {},
   "outputs": [],
   "source": [
    "def train_model_with_nn(input_size, H1, output_size, epochs, lr_list):  \n",
    "    models_nn = []\n",
    "    train_loss = [[] for i in range(len(lr_list))]\n",
    "    valid_loss = [[] for i in range(len(lr_list))]\n",
    "    \n",
    "    for i, lr in enumerate(lr_list):\n",
    "        model2=Net(input_size, H1, output_size)\n",
    "        optimizer=torch.optim.Adam(model2.parameters(), lr=lr)\n",
    "        \n",
    "        for epoch in range(epochs):\n",
    "            \n",
    "            epoch_training_loss = 0\n",
    "            epoch_validation_loss = 0\n",
    "\n",
    "            for x,y in trainloader:\n",
    "                optimizer.zero_grad()\n",
    "                yhat=model2(x.float())\n",
    "                loss = criterion(yhat, y.view(len(yhat[:,0])).type(torch.LongTensor))\n",
    "                loss.backward()\n",
    "                optimizer.step()\n",
    "                epoch_training_loss += loss.data\n",
    "\n",
    "\n",
    "            # perform a prediction on the validationdata  \n",
    "            for x_test, y_test in validationloader:\n",
    "                z = model2(x_test.float())\n",
    "                _, yhat = torch.max(z.data, 1)\n",
    "                epoch_validation_loss += loss.data\n",
    "\n",
    "            train_loss[i].append(epoch_training_loss/len(trainloader))\n",
    "            valid_loss[i].append(epoch_validation_loss/len(validationloader))\n",
    "\n",
    "        models_nn.append(model2)\n",
    "    return models_nn, train_loss, valid_loss\n"
   ]
  },
  {
   "cell_type": "code",
   "execution_count": 30,
   "metadata": {},
   "outputs": [],
   "source": [
    "input_size, H1, output_size, total_epochs = 14, 10, 3, 100\n",
    "models_nn, train_loss, valid_loss = train_model_with_nn(input_size, H1, output_size, total_epochs, learning_rates)"
   ]
  },
  {
   "cell_type": "code",
   "execution_count": 31,
   "metadata": {},
   "outputs": [
    {
     "data": {
      "image/png": "[encoded data removed]",
      "text/plain": [
       "<Figure size 432x288 with 1 Axes>"
      ]
     },
     "metadata": {
      "needs_background": "light"
     },
     "output_type": "display_data"
    }
   ],
   "source": [
    "# Plot of the train losses for each learning rate\n",
    "for i in range(len(learning_rates)):\n",
    "    plt.plot(train_loss[i], label = 'lr:' + str(learning_rates[i]))\n",
    "    plt.legend()\n",
    "    plt.show"
   ]
  },
  {
   "cell_type": "code",
   "execution_count": 32,
   "metadata": {},
   "outputs": [
    {
     "data": {
      "image/png": "[encoded data removed]",
      "text/plain": [
       "<Figure size 432x288 with 1 Axes>"
      ]
     },
     "metadata": {
      "needs_background": "light"
     },
     "output_type": "display_data"
    }
   ],
   "source": [
    "# Plot of the train losses for each learning rate\n",
    "for i in range(len(learning_rates)):\n",
    "    plt.plot(valid_loss[i], label = 'lr:' + str(learning_rates[i]))\n",
    "    plt.legend()\n",
    "    plt.show"
   ]
  },
  {
   "cell_type": "markdown",
   "metadata": {},
   "source": [
    "Again, __lr=0.01__ is taken to be the best choice. Both of the loss seem to converge."
   ]
  },
  {
   "cell_type": "markdown",
   "metadata": {},
   "source": [
    "Choosing the size of the hidden layer:"
   ]
  },
  {
   "cell_type": "code",
   "execution_count": 33,
   "metadata": {},
   "outputs": [],
   "source": [
    "def train_model_with_nn_hs(input_size, hidden_sizes, output_size, epochs, lr):  \n",
    "    models_nn = []\n",
    "    train_loss = [[] for i in range(len(hidden_sizes))]\n",
    "    valid_loss = [[] for i in range(len(hidden_sizes))]\n",
    "    \n",
    "    for i, hidden_size in enumerate(hidden_sizes):\n",
    "        model2 = Net(input_size, hidden_size, output_size)\n",
    "        optimizer=torch.optim.Adam(model2.parameters(), lr=lr)\n",
    "        \n",
    "        for epoch in range(epochs):\n",
    "            \n",
    "            epoch_training_loss = 0\n",
    "            epoch_validation_loss = 0\n",
    "\n",
    "            for x,y in trainloader:\n",
    "                optimizer.zero_grad()\n",
    "                yhat=model2(x.float())\n",
    "                loss = criterion(yhat, y.view(len(yhat[:,0])).type(torch.LongTensor))\n",
    "                loss.backward()\n",
    "                optimizer.step()\n",
    "                epoch_training_loss += loss.data\n",
    "\n",
    "            # perform a prediction on the validationdata  \n",
    "            for x_test, y_test in validationloader:\n",
    "                z = model2(x_test.float())\n",
    "                _, yhat = torch.max(z.data, 1)\n",
    "                epoch_validation_loss += loss.data\n",
    "\n",
    "            train_loss[i].append(epoch_training_loss/len(trainloader))\n",
    "            valid_loss[i].append(epoch_validation_loss/len(validationloader))\n",
    "\n",
    "        models_nn.append(model2)\n",
    "    return models_nn, train_loss, valid_loss"
   ]
  },
  {
   "cell_type": "code",
   "execution_count": 34,
   "metadata": {},
   "outputs": [],
   "source": [
    "criterion = nn.CrossEntropyLoss()\n",
    "trainloader = DataLoader(dataset = train_data, batch_size = 1)\n",
    "lr = 0.01\n",
    "input_size, output_size, total_epochs = 14, 3, 100\n",
    "hidden_sizes = [5, 10, 15, 20]\n",
    "models_nn_hs, train_loss, valid_loss = train_model_with_nn_hs(input_size, hidden_sizes, output_size, total_epochs, lr)"
   ]
  },
  {
   "cell_type": "code",
   "execution_count": 36,
   "metadata": {},
   "outputs": [
    {
     "data": {
      "image/png": "[encoded data removed]",
      "text/plain": [
       "<Figure size 432x288 with 1 Axes>"
      ]
     },
     "metadata": {
      "needs_background": "light"
     },
     "output_type": "display_data"
    }
   ],
   "source": [
    "for i in range(len(hidden_sizes)):\n",
    "    plt.plot(train_loss[i], label = 'hs:' + str(hidden_sizes[i]))\n",
    "    plt.legend()\n",
    "    plt.show"
   ]
  },
  {
   "cell_type": "code",
   "execution_count": 37,
   "metadata": {},
   "outputs": [
    {
     "data": {
      "image/png": "[encoded data removed]",
      "text/plain": [
       "<Figure size 432x288 with 1 Axes>"
      ]
     },
     "metadata": {
      "needs_background": "light"
     },
     "output_type": "display_data"
    }
   ],
   "source": [
    "for i in range(len(hidden_sizes)):\n",
    "    plt.plot(valid_loss[i], label = 'hs:' + str(hidden_sizes[i]))\n",
    "    plt.legend()\n",
    "    plt.show"
   ]
  },
  {
   "cell_type": "markdown",
   "metadata": {},
   "source": [
    "### Evaluation of the model (shallow neural network with lr = 0.01, batch_size = 1, hidden size =15):"
   ]
  },
  {
   "cell_type": "code",
   "execution_count": 46,
   "metadata": {},
   "outputs": [
    {
     "data": {
      "text/plain": [
       "0.6724137931034483"
      ]
     },
     "execution_count": 46,
     "metadata": {},
     "output_type": "execute_result"
    }
   ],
   "source": [
    "correct = 0\n",
    "accuracy = 0\n",
    "i=3\n",
    "for x, y in testloader:\n",
    "    z = models_nn_hs[i](x.float())\n",
    "    _, yhat = torch.max(z.data, 1)\n",
    "    for j in range(len(yhat)):\n",
    "        if yhat[j] == y[j]:\n",
    "            correct += 1\n",
    "\n",
    "accuracy = correct/len(testloader)\n",
    "acc.append(accuracy)\n",
    "accuracy \n",
    "\n"
   ]
  },
  {
   "cell_type": "markdown",
   "metadata": {},
   "source": [
    "# Model 3: Classification by Deep Neural Networks "
   ]
  },
  {
   "cell_type": "code",
   "execution_count": 39,
   "metadata": {},
   "outputs": [],
   "source": [
    "class DeepNet(nn.Module):\n",
    "    \n",
    "    # Constructor\n",
    "    def __init__(self, D_in, H1, H2, D_out):\n",
    "        super(DeepNet, self).__init__()\n",
    "        self.linear1 = nn.Linear(D_in, H1)\n",
    "        self.linear2 = nn.Linear(H1, H2)\n",
    "        self.linear3 = nn.Linear(H2, D_out)\n",
    "    \n",
    "    # Prediction\n",
    "    def forward(self,x):\n",
    "        x = torch.relu(self.linear1(x)) \n",
    "        x = torch.relu(self.linear2(x))\n",
    "        #x = torch.relu(self.linear3(x))\n",
    "        x = self.linear3(x)\n",
    "        return x"
   ]
  },
  {
   "cell_type": "code",
   "execution_count": 40,
   "metadata": {},
   "outputs": [],
   "source": [
    "def train_model_with_dnn(input_size, H1, H2, output_size, epochs, lr):\n",
    "    model = DeepNet(input_size, H1, H2, output_size)\n",
    "    optimizer_dnn = torch.optim.Adam(model.parameters(), lr=lr)\n",
    "    \n",
    "    train_loss = []\n",
    "    valid_loss = []\n",
    "\n",
    "    for epoch in range(epochs):\n",
    "\n",
    "        epoch_training_loss = 0\n",
    "        epoch_validation_loss = 0\n",
    "\n",
    "        for x,y in trainloader:\n",
    "            optimizer_dnn.zero_grad()\n",
    "            yhat=model(x.float())\n",
    "            loss = criterion(yhat, y.view(len(yhat[:,0])).type(torch.LongTensor))\n",
    "            loss.backward()\n",
    "            optimizer_dnn.step()\n",
    "            epoch_training_loss += loss.data\n",
    "\n",
    "        # perform a prediction on the validation data  \n",
    "        for x_test, y_test in validationloader:\n",
    "            z = model(x_test.float())\n",
    "            _, yhat = torch.max(z.data, 1)\n",
    "            epoch_validation_loss += loss.data\n",
    "\n",
    "        train_loss.append(epoch_training_loss/len(trainloader))\n",
    "        valid_loss.append(epoch_validation_loss/len(validationloader))\n",
    "\n",
    "    return model, train_loss, valid_loss"
   ]
  },
  {
   "cell_type": "markdown",
   "metadata": {},
   "source": [
    "For Deep NN similar procedure of hyperparameters tuning was used. Best ones so far were: __Hidden Layers num = 2, H1 size = 10, H2 size = 10, lr = 0.001, batch_size=8__"
   ]
  },
  {
   "cell_type": "code",
   "execution_count": 41,
   "metadata": {},
   "outputs": [],
   "source": [
    "criterion = nn.CrossEntropyLoss()\n",
    "trainloader = DataLoader(dataset = train_data, batch_size = 8)\n",
    "lr = 0.001\n",
    "input_size, output_size, total_epochs = 14, 3, 200\n",
    "H1, H2 = 10, 10\n",
    "model, train_loss, valid_loss = train_model_with_dnn(input_size, H1, H2, output_size, total_epochs, lr)"
   ]
  },
  {
   "cell_type": "code",
   "execution_count": 47,
   "metadata": {},
   "outputs": [
    {
     "data": {
      "text/plain": [
       "0.7931034482758621"
      ]
     },
     "execution_count": 47,
     "metadata": {},
     "output_type": "execute_result"
    }
   ],
   "source": [
    "correct = 0\n",
    "accuracy = 0\n",
    "for x, y in testloader:\n",
    "    z = model(x.float())\n",
    "    _, yhat = torch.max(z.data, 1)\n",
    "    for j in range(len(yhat)):\n",
    "        if yhat[j] == y[j]:\n",
    "            correct += 1\n",
    "\n",
    "accuracy = correct/len(testloader)\n",
    "acc.append(accuracy)\n",
    "accuracy \n",
    "\n"
   ]
  },
  {
   "cell_type": "markdown",
   "metadata": {},
   "source": [
    "## Evaluation of the results\n",
    "### Accuracy of the models on the test split\n",
    "| Softmax Regression | Shallow NN | Deep NN |\n",
    "| :- | -: | :-: |\n",
    "| 0.6034483 | 0.67241379 | 0.79310344"
   ]
  },
  {
   "cell_type": "code",
   "execution_count": 50,
   "metadata": {},
   "outputs": [
    {
     "data": {
      "image/png": "[encoded data removed]",
      "text/plain": [
       "<Figure size 432x288 with 1 Axes>"
      ]
     },
     "metadata": {
      "needs_background": "light"
     },
     "output_type": "display_data"
    }
   ],
   "source": [
    "objects = ('Softmax', 'Shallow', 'DNN')\n",
    "y_pos = np.arange(len(objects))\n",
    "\n",
    "\n",
    "plt.bar(y_pos, acc, align='center', alpha=0.5)\n",
    "plt.xticks(y_pos, objects)\n",
    "plt.ylabel('Usage')\n",
    "plt.title('Accuracies on test data')\n",
    "\n",
    "plt.show()"
   ]
  },
  {
   "cell_type": "markdown",
   "metadata": {},
   "source": [
    "# Conclusion"
   ]
  },
  {
   "cell_type": "markdown",
   "metadata": {},
   "source": [
    "During this project the basics of pyTorch library and its application with neural networks were learned. \n",
    "Overall, the Coursera Course seem to be not the best one for me, such a short videos with assumption of previous knowledge did not taught a lot. However, this project covered the gaps that remained unclear after the course. Implementation of modules, dealing with losses, tensors and tuning hyperparameters - gave a clear sense of neural networks. \n",
    "\n",
    "At first my data seem to be not applicable and not appropriate for the project - not enough samples, loss and accuracies were very unstable. \n",
    "\n",
    "__The most interesting thing comes when the data that seemed not relatable at the beginning, achieved good testing accuracy! I found 79.3% very impressive for myself__"
   ]
  }
 ],
 "metadata": {
  "kernelspec": {
   "display_name": "Python 3",
   "language": "python",
   "name": "python3"
  },
  "language_info": {
   "codemirror_mode": {
    "name": "ipython",
    "version": 3
   },
   "file_extension": ".py",
   "mimetype": "text/x-python",
   "name": "python",
   "nbconvert_exporter": "python",
   "pygments_lexer": "ipython3",
   "version": "3.7.1"
  }
 },
 "nbformat": 4,
 "nbformat_minor": 2
}
